{
  "cells": [
    {
      "cell_type": "code",
      "execution_count": 51,
      "metadata": {
        "id": "o70FhVybW_n-"
      },
      "outputs": [],
      "source": [
        "import numpy as np \n",
        "import pandas as pd  \n",
        "import seaborn as sns \n",
        "import matplotlib.pyplot as plt  \n",
        "%matplotlib inline \n",
        "from sklearn.metrics import accuracy_score,classification_report\n",
        "from sklearn.model_selection import cross_val_score\n",
        "import warnings\n",
        "warnings.filterwarnings('ignore')"
      ]
    },
    {
      "cell_type": "code",
      "execution_count": 3,
      "metadata": {
        "colab": {
          "base_uri": "https://localhost:8080/",
          "height": 206
        },
        "id": "2qj89hNoX5J9",
        "outputId": "4f7bc80b-6913-44f7-e21b-540495fcb8cc"
      },
      "outputs": [
        {
          "data": {
            "text/html": [
              "<div>\n",
              "<style scoped>\n",
              "    .dataframe tbody tr th:only-of-type {\n",
              "        vertical-align: middle;\n",
              "    }\n",
              "\n",
              "    .dataframe tbody tr th {\n",
              "        vertical-align: top;\n",
              "    }\n",
              "\n",
              "    .dataframe thead th {\n",
              "        text-align: right;\n",
              "    }\n",
              "</style>\n",
              "<table border=\"1\" class=\"dataframe\">\n",
              "  <thead>\n",
              "    <tr style=\"text-align: right;\">\n",
              "      <th></th>\n",
              "      <th>Domain</th>\n",
              "      <th>category</th>\n",
              "    </tr>\n",
              "  </thead>\n",
              "  <tbody>\n",
              "    <tr>\n",
              "      <th>0</th>\n",
              "      <td>noriomatsumoto.com</td>\n",
              "      <td>1</td>\n",
              "    </tr>\n",
              "    <tr>\n",
              "      <th>1</th>\n",
              "      <td>haplessmales.com</td>\n",
              "      <td>1</td>\n",
              "    </tr>\n",
              "    <tr>\n",
              "      <th>2</th>\n",
              "      <td>shivamchatuvedi.com</td>\n",
              "      <td>1</td>\n",
              "    </tr>\n",
              "    <tr>\n",
              "      <th>3</th>\n",
              "      <td>dailyfreebieoffer.com</td>\n",
              "      <td>1</td>\n",
              "    </tr>\n",
              "    <tr>\n",
              "      <th>4</th>\n",
              "      <td>poniemall.com</td>\n",
              "      <td>1</td>\n",
              "    </tr>\n",
              "  </tbody>\n",
              "</table>\n",
              "</div>"
            ],
            "text/plain": [
              "                  Domain  category\n",
              "0     noriomatsumoto.com         1\n",
              "1       haplessmales.com         1\n",
              "2    shivamchatuvedi.com         1\n",
              "3  dailyfreebieoffer.com         1\n",
              "4          poniemall.com         1"
            ]
          },
          "execution_count": 3,
          "metadata": {},
          "output_type": "execute_result"
        }
      ],
      "source": [
        "data = pd.read_csv(\"C:/Users/sanat/Downloads/coursework_data.csv\") \n",
        "data.head()"
      ]
    },
    {
      "cell_type": "code",
      "execution_count": 4,
      "metadata": {
        "id": "I3_hjS3yYCLj"
      },
      "outputs": [
        {
          "name": "stdout",
          "output_type": "stream",
          "text": [
            "(10000, 2)\n"
          ]
        }
      ],
      "source": [
        "print(data.shape)"
      ]
    },
    {
      "cell_type": "code",
      "execution_count": 5,
      "metadata": {
        "id": "PU_pm050bndm"
      },
      "outputs": [
        {
          "data": {
            "text/plain": [
              "array([1, 2, 3, 4, 5], dtype=int64)"
            ]
          },
          "execution_count": 5,
          "metadata": {},
          "output_type": "execute_result"
        }
      ],
      "source": [
        "data.category.unique()"
      ]
    },
    {
      "cell_type": "code",
      "execution_count": 6,
      "metadata": {
        "id": "Y83rukRtYFXT"
      },
      "outputs": [
        {
          "data": {
            "text/html": [
              "<div>\n",
              "<style scoped>\n",
              "    .dataframe tbody tr th:only-of-type {\n",
              "        vertical-align: middle;\n",
              "    }\n",
              "\n",
              "    .dataframe tbody tr th {\n",
              "        vertical-align: top;\n",
              "    }\n",
              "\n",
              "    .dataframe thead th {\n",
              "        text-align: right;\n",
              "    }\n",
              "</style>\n",
              "<table border=\"1\" class=\"dataframe\">\n",
              "  <thead>\n",
              "    <tr style=\"text-align: right;\">\n",
              "      <th></th>\n",
              "      <th>category</th>\n",
              "    </tr>\n",
              "  </thead>\n",
              "  <tbody>\n",
              "    <tr>\n",
              "      <th>count</th>\n",
              "      <td>10000.000000</td>\n",
              "    </tr>\n",
              "    <tr>\n",
              "      <th>mean</th>\n",
              "      <td>1.750000</td>\n",
              "    </tr>\n",
              "    <tr>\n",
              "      <th>std</th>\n",
              "      <td>1.134737</td>\n",
              "    </tr>\n",
              "    <tr>\n",
              "      <th>min</th>\n",
              "      <td>1.000000</td>\n",
              "    </tr>\n",
              "    <tr>\n",
              "      <th>25%</th>\n",
              "      <td>1.000000</td>\n",
              "    </tr>\n",
              "    <tr>\n",
              "      <th>50%</th>\n",
              "      <td>1.000000</td>\n",
              "    </tr>\n",
              "    <tr>\n",
              "      <th>75%</th>\n",
              "      <td>2.000000</td>\n",
              "    </tr>\n",
              "    <tr>\n",
              "      <th>max</th>\n",
              "      <td>5.000000</td>\n",
              "    </tr>\n",
              "  </tbody>\n",
              "</table>\n",
              "</div>"
            ],
            "text/plain": [
              "           category\n",
              "count  10000.000000\n",
              "mean       1.750000\n",
              "std        1.134737\n",
              "min        1.000000\n",
              "25%        1.000000\n",
              "50%        1.000000\n",
              "75%        2.000000\n",
              "max        5.000000"
            ]
          },
          "execution_count": 6,
          "metadata": {},
          "output_type": "execute_result"
        }
      ],
      "source": [
        "data.describe()"
      ]
    },
    {
      "cell_type": "code",
      "execution_count": 7,
      "metadata": {
        "id": "wUtJ_FAMYJVU"
      },
      "outputs": [
        {
          "name": "stdout",
          "output_type": "stream",
          "text": [
            "<class 'pandas.core.frame.DataFrame'>\n",
            "RangeIndex: 10000 entries, 0 to 9999\n",
            "Data columns (total 2 columns):\n",
            " #   Column    Non-Null Count  Dtype \n",
            "---  ------    --------------  ----- \n",
            " 0   Domain    10000 non-null  object\n",
            " 1   category  10000 non-null  int64 \n",
            "dtypes: int64(1), object(1)\n",
            "memory usage: 156.4+ KB\n"
          ]
        }
      ],
      "source": [
        "data.info()"
      ]
    },
    {
      "cell_type": "code",
      "execution_count": 8,
      "metadata": {
        "id": "Vm90_Kn7YQcs"
      },
      "outputs": [
        {
          "data": {
            "text/plain": [
              "0"
            ]
          },
          "execution_count": 8,
          "metadata": {},
          "output_type": "execute_result"
        }
      ],
      "source": [
        "#Checking if the data is duplicate or not\n",
        "data.duplicated().sum()"
      ]
    },
    {
      "cell_type": "code",
      "execution_count": 9,
      "metadata": {
        "id": "ubTXlWQQYcCi"
      },
      "outputs": [
        {
          "data": {
            "text/plain": [
              "Domain      0\n",
              "category    0\n",
              "dtype: int64"
            ]
          },
          "execution_count": 9,
          "metadata": {},
          "output_type": "execute_result"
        }
      ],
      "source": [
        "#Checking if the data having some null values or not\n",
        "data.isnull().sum()"
      ]
    },
    {
      "attachments": {},
      "cell_type": "markdown",
      "metadata": {
        "id": "GIq3DIahKnok"
      },
      "source": [
        "**Exploratory Data Analysis**"
      ]
    },
    {
      "cell_type": "code",
      "execution_count": 17,
      "metadata": {
        "id": "uXnkewjUYhIX"
      },
      "outputs": [
        {
          "data": {
            "text/plain": [
              "Text(0, 0.5, 'Count')"
            ]
          },
          "execution_count": 17,
          "metadata": {},
          "output_type": "execute_result"
        },
        {
          "data": {
            "image/png": "[encoded data removed]",
            "text/plain": [
              "<Figure size 432x288 with 1 Axes>"
            ]
          },
          "metadata": {
            "needs_background": "light"
          },
          "output_type": "display_data"
        }
      ],
      "source": [
        "data['category'].value_counts().plot(kind='bar')\n",
        "plt.title(\"Count of each category\")\n",
        "plt.xlabel(\"Category\")\n",
        "plt.ylabel(\"Count\")"
      ]
    },
    {
      "attachments": {},
      "cell_type": "markdown",
      "metadata": {},
      "source": [
        "**It seems that majority of the domains are of Category 1**"
      ]
    },
    {
      "cell_type": "code",
      "execution_count": 20,
      "metadata": {},
      "outputs": [
        {
          "data": {
            "text/html": [
              "<div>\n",
              "<style scoped>\n",
              "    .dataframe tbody tr th:only-of-type {\n",
              "        vertical-align: middle;\n",
              "    }\n",
              "\n",
              "    .dataframe tbody tr th {\n",
              "        vertical-align: top;\n",
              "    }\n",
              "\n",
              "    .dataframe thead th {\n",
              "        text-align: right;\n",
              "    }\n",
              "</style>\n",
              "<table border=\"1\" class=\"dataframe\">\n",
              "  <thead>\n",
              "    <tr style=\"text-align: right;\">\n",
              "      <th></th>\n",
              "      <th>Domain</th>\n",
              "      <th>category</th>\n",
              "      <th>Length</th>\n",
              "    </tr>\n",
              "  </thead>\n",
              "  <tbody>\n",
              "    <tr>\n",
              "      <th>0</th>\n",
              "      <td>noriomatsumoto.com</td>\n",
              "      <td>1</td>\n",
              "      <td>18</td>\n",
              "    </tr>\n",
              "    <tr>\n",
              "      <th>1</th>\n",
              "      <td>haplessmales.com</td>\n",
              "      <td>1</td>\n",
              "      <td>16</td>\n",
              "    </tr>\n",
              "    <tr>\n",
              "      <th>2</th>\n",
              "      <td>shivamchatuvedi.com</td>\n",
              "      <td>1</td>\n",
              "      <td>19</td>\n",
              "    </tr>\n",
              "    <tr>\n",
              "      <th>3</th>\n",
              "      <td>dailyfreebieoffer.com</td>\n",
              "      <td>1</td>\n",
              "      <td>21</td>\n",
              "    </tr>\n",
              "    <tr>\n",
              "      <th>4</th>\n",
              "      <td>poniemall.com</td>\n",
              "      <td>1</td>\n",
              "      <td>13</td>\n",
              "    </tr>\n",
              "    <tr>\n",
              "      <th>...</th>\n",
              "      <td>...</td>\n",
              "      <td>...</td>\n",
              "      <td>...</td>\n",
              "    </tr>\n",
              "    <tr>\n",
              "      <th>9995</th>\n",
              "      <td>citymark.com</td>\n",
              "      <td>5</td>\n",
              "      <td>12</td>\n",
              "    </tr>\n",
              "    <tr>\n",
              "      <th>9996</th>\n",
              "      <td>offroading.com</td>\n",
              "      <td>5</td>\n",
              "      <td>14</td>\n",
              "    </tr>\n",
              "    <tr>\n",
              "      <th>9997</th>\n",
              "      <td>cevon.com</td>\n",
              "      <td>5</td>\n",
              "      <td>9</td>\n",
              "    </tr>\n",
              "    <tr>\n",
              "      <th>9998</th>\n",
              "      <td>mozzilla.com</td>\n",
              "      <td>5</td>\n",
              "      <td>12</td>\n",
              "    </tr>\n",
              "    <tr>\n",
              "      <th>9999</th>\n",
              "      <td>stemz.com</td>\n",
              "      <td>5</td>\n",
              "      <td>9</td>\n",
              "    </tr>\n",
              "  </tbody>\n",
              "</table>\n",
              "<p>10000 rows × 3 columns</p>\n",
              "</div>"
            ],
            "text/plain": [
              "                     Domain  category  Length\n",
              "0        noriomatsumoto.com         1      18\n",
              "1          haplessmales.com         1      16\n",
              "2       shivamchatuvedi.com         1      19\n",
              "3     dailyfreebieoffer.com         1      21\n",
              "4             poniemall.com         1      13\n",
              "...                     ...       ...     ...\n",
              "9995           citymark.com         5      12\n",
              "9996         offroading.com         5      14\n",
              "9997              cevon.com         5       9\n",
              "9998           mozzilla.com         5      12\n",
              "9999              stemz.com         5       9\n",
              "\n",
              "[10000 rows x 3 columns]"
            ]
          },
          "execution_count": 20,
          "metadata": {},
          "output_type": "execute_result"
        }
      ],
      "source": [
        "#Creating a column that stores the length of domain\n",
        "data['Length'] = data['Domain'].apply(len)\n",
        "data"
      ]
    },
    {
      "cell_type": "code",
      "execution_count": 23,
      "metadata": {},
      "outputs": [
        {
          "data": {
            "text/plain": [
              "<AxesSubplot:xlabel='category', ylabel='Length'>"
            ]
          },
          "execution_count": 23,
          "metadata": {},
          "output_type": "execute_result"
        },
        {
          "data": {
            "image/png": "[encoded data removed]",
            "text/plain": [
              "<Figure size 432x288 with 1 Axes>"
            ]
          },
          "metadata": {
            "needs_background": "light"
          },
          "output_type": "display_data"
        }
      ],
      "source": [
        "sns.barplot(x=data['category'],y=data['Length'])"
      ]
    },
    {
      "attachments": {},
      "cell_type": "markdown",
      "metadata": {},
      "source": [
        "**Category 1 has the Longest Domain length followed by Category 2 and the shortest being category 5**"
      ]
    },
    {
      "attachments": {},
      "cell_type": "markdown",
      "metadata": {},
      "source": [
        "##### Let us Visualize the longest and shortest Domain"
      ]
    },
    {
      "cell_type": "code",
      "execution_count": 25,
      "metadata": {},
      "outputs": [
        {
          "data": {
            "text/plain": [
              "count    10000.00000\n",
              "mean        15.84330\n",
              "std          5.00694\n",
              "min          6.00000\n",
              "25%         12.00000\n",
              "50%         15.00000\n",
              "75%         19.00000\n",
              "max         57.00000\n",
              "Name: Length, dtype: float64"
            ]
          },
          "execution_count": 25,
          "metadata": {},
          "output_type": "execute_result"
        }
      ],
      "source": [
        "data.Length.describe()"
      ]
    },
    {
      "cell_type": "markdown",
      "metadata": {},
      "source": [
        "**As we can see that the min value of length is 6 and max is 57, let us locate the domain.**"
      ]
    },
    {
      "cell_type": "code",
      "execution_count": 26,
      "metadata": {},
      "outputs": [
        {
          "data": {
            "text/html": [
              "<div>\n",
              "<style scoped>\n",
              "    .dataframe tbody tr th:only-of-type {\n",
              "        vertical-align: middle;\n",
              "    }\n",
              "\n",
              "    .dataframe tbody tr th {\n",
              "        vertical-align: top;\n",
              "    }\n",
              "\n",
              "    .dataframe thead th {\n",
              "        text-align: right;\n",
              "    }\n",
              "</style>\n",
              "<table border=\"1\" class=\"dataframe\">\n",
              "  <thead>\n",
              "    <tr style=\"text-align: right;\">\n",
              "      <th></th>\n",
              "      <th>Domain</th>\n",
              "      <th>Length</th>\n",
              "    </tr>\n",
              "  </thead>\n",
              "  <tbody>\n",
              "    <tr>\n",
              "      <th>8450</th>\n",
              "      <td>0v.com</td>\n",
              "      <td>6</td>\n",
              "    </tr>\n",
              "    <tr>\n",
              "      <th>9652</th>\n",
              "      <td>6f.com</td>\n",
              "      <td>6</td>\n",
              "    </tr>\n",
              "    <tr>\n",
              "      <th>9653</th>\n",
              "      <td>we.com</td>\n",
              "      <td>6</td>\n",
              "    </tr>\n",
              "    <tr>\n",
              "      <th>9705</th>\n",
              "      <td>3w.com</td>\n",
              "      <td>6</td>\n",
              "    </tr>\n",
              "    <tr>\n",
              "      <th>9863</th>\n",
              "      <td>yb.com</td>\n",
              "      <td>6</td>\n",
              "    </tr>\n",
              "  </tbody>\n",
              "</table>\n",
              "</div>"
            ],
            "text/plain": [
              "      Domain  Length\n",
              "8450  0v.com       6\n",
              "9652  6f.com       6\n",
              "9653  we.com       6\n",
              "9705  3w.com       6\n",
              "9863  yb.com       6"
            ]
          },
          "execution_count": 26,
          "metadata": {},
          "output_type": "execute_result"
        }
      ],
      "source": [
        "#Shortest domain\n",
        "data.loc[data['Length']==6,['Domain','Length']]"
      ]
    },
    {
      "cell_type": "code",
      "execution_count": 27,
      "metadata": {},
      "outputs": [
        {
          "data": {
            "text/html": [
              "<div>\n",
              "<style scoped>\n",
              "    .dataframe tbody tr th:only-of-type {\n",
              "        vertical-align: middle;\n",
              "    }\n",
              "\n",
              "    .dataframe tbody tr th {\n",
              "        vertical-align: top;\n",
              "    }\n",
              "\n",
              "    .dataframe thead th {\n",
              "        text-align: right;\n",
              "    }\n",
              "</style>\n",
              "<table border=\"1\" class=\"dataframe\">\n",
              "  <thead>\n",
              "    <tr style=\"text-align: right;\">\n",
              "      <th></th>\n",
              "      <th>Domain</th>\n",
              "      <th>Length</th>\n",
              "    </tr>\n",
              "  </thead>\n",
              "  <tbody>\n",
              "    <tr>\n",
              "      <th>499</th>\n",
              "      <td>pt-rooms-booking-pay-3532592376-89327596-check...</td>\n",
              "      <td>57</td>\n",
              "    </tr>\n",
              "  </tbody>\n",
              "</table>\n",
              "</div>"
            ],
            "text/plain": [
              "                                                Domain  Length\n",
              "499  pt-rooms-booking-pay-3532592376-89327596-check...      57"
            ]
          },
          "execution_count": 27,
          "metadata": {},
          "output_type": "execute_result"
        }
      ],
      "source": [
        "#Longest Domain\n",
        "data.loc[data['Length']==57,['Domain','Length']]"
      ]
    },
    {
      "cell_type": "markdown",
      "metadata": {},
      "source": [
        "#### Data Preprocessing"
      ]
    },
    {
      "cell_type": "markdown",
      "metadata": {},
      "source": [
        "**Let us remove the punctuations from the text data**"
      ]
    },
    {
      "cell_type": "code",
      "execution_count": 28,
      "metadata": {},
      "outputs": [
        {
          "name": "stdout",
          "output_type": "stream",
          "text": [
            "!\"#$%&'()*+,-./:;<=>?@[\\]^_`{|}~\n"
          ]
        }
      ],
      "source": [
        "#Python built-in library \n",
        "import string\n",
        "print(string.punctuation)"
      ]
    },
    {
      "cell_type": "markdown",
      "metadata": {},
      "source": [
        "**Let us remove the punctuations:**"
      ]
    },
    {
      "cell_type": "code",
      "execution_count": 30,
      "metadata": {},
      "outputs": [
        {
          "data": {
            "text/html": [
              "<div>\n",
              "<style scoped>\n",
              "    .dataframe tbody tr th:only-of-type {\n",
              "        vertical-align: middle;\n",
              "    }\n",
              "\n",
              "    .dataframe tbody tr th {\n",
              "        vertical-align: top;\n",
              "    }\n",
              "\n",
              "    .dataframe thead th {\n",
              "        text-align: right;\n",
              "    }\n",
              "</style>\n",
              "<table border=\"1\" class=\"dataframe\">\n",
              "  <thead>\n",
              "    <tr style=\"text-align: right;\">\n",
              "      <th></th>\n",
              "      <th>Domain</th>\n",
              "      <th>category</th>\n",
              "      <th>Length</th>\n",
              "      <th>Domain_clean</th>\n",
              "    </tr>\n",
              "  </thead>\n",
              "  <tbody>\n",
              "    <tr>\n",
              "      <th>0</th>\n",
              "      <td>noriomatsumoto.com</td>\n",
              "      <td>1</td>\n",
              "      <td>18</td>\n",
              "      <td>noriomatsumotocom</td>\n",
              "    </tr>\n",
              "    <tr>\n",
              "      <th>1</th>\n",
              "      <td>haplessmales.com</td>\n",
              "      <td>1</td>\n",
              "      <td>16</td>\n",
              "      <td>haplessmalescom</td>\n",
              "    </tr>\n",
              "    <tr>\n",
              "      <th>2</th>\n",
              "      <td>shivamchatuvedi.com</td>\n",
              "      <td>1</td>\n",
              "      <td>19</td>\n",
              "      <td>shivamchatuvedicom</td>\n",
              "    </tr>\n",
              "    <tr>\n",
              "      <th>3</th>\n",
              "      <td>dailyfreebieoffer.com</td>\n",
              "      <td>1</td>\n",
              "      <td>21</td>\n",
              "      <td>dailyfreebieoffercom</td>\n",
              "    </tr>\n",
              "    <tr>\n",
              "      <th>4</th>\n",
              "      <td>poniemall.com</td>\n",
              "      <td>1</td>\n",
              "      <td>13</td>\n",
              "      <td>poniemallcom</td>\n",
              "    </tr>\n",
              "  </tbody>\n",
              "</table>\n",
              "</div>"
            ],
            "text/plain": [
              "                  Domain  category  Length          Domain_clean\n",
              "0     noriomatsumoto.com         1      18     noriomatsumotocom\n",
              "1       haplessmales.com         1      16       haplessmalescom\n",
              "2    shivamchatuvedi.com         1      19    shivamchatuvedicom\n",
              "3  dailyfreebieoffer.com         1      21  dailyfreebieoffercom\n",
              "4          poniemall.com         1      13          poniemallcom"
            ]
          },
          "execution_count": 30,
          "metadata": {},
          "output_type": "execute_result"
        }
      ],
      "source": [
        "def remove_punct(text):\n",
        "    text = \"\".join([char for char in text if char not in string.punctuation])\n",
        "    return text\n",
        "data['Domain_clean'] = data['Domain'].apply(lambda x: remove_punct(x))\n",
        "data.head()"
      ]
    },
    {
      "cell_type": "code",
      "execution_count": 31,
      "metadata": {
        "id": "nvNotz-Gjx5U"
      },
      "outputs": [],
      "source": [
        "#Separating the data as Texts and labels\n",
        "\n",
        "X= data['Domain_clean'] #Input feature\n",
        "Y= data['category'] #output feature"
      ]
    },
    {
      "cell_type": "code",
      "execution_count": 32,
      "metadata": {
        "id": "rD4Q7H2e6rvP"
      },
      "outputs": [],
      "source": [
        "#For Spliting the data set into test data and train data importing Model Selection library from Sklearn\n",
        "\n",
        "from sklearn.model_selection import train_test_split\n",
        "X_train, X_test, Y_train, Y_test = train_test_split(X , Y, test_size=0.3, random_state=2)\n"
      ]
    },
    {
      "cell_type": "code",
      "execution_count": 33,
      "metadata": {
        "colab": {
          "base_uri": "https://localhost:8080/"
        },
        "id": "XUSDmfvC7-M7",
        "outputId": "8f83e613-3251-4751-d8fe-a82bfa6633a8"
      },
      "outputs": [
        {
          "name": "stdout",
          "output_type": "stream",
          "text": [
            "(10000,)\n",
            "(7000,)\n",
            "How much data we are using in our testing purpose (3000,)\n"
          ]
        }
      ],
      "source": [
        "print(X.shape)\n",
        "print(X_train.shape)\n",
        "print('How much data we are using in our testing purpose',X_test.shape)"
      ]
    },
    {
      "cell_type": "code",
      "execution_count": 34,
      "metadata": {
        "colab": {
          "base_uri": "https://localhost:8080/"
        },
        "id": "llBDp_Nijeha",
        "outputId": "123482dd-968a-4bfc-cbe9-47bcc50448ff"
      },
      "outputs": [
        {
          "data": {
            "text/plain": [
              "array([2, 1, 3, 4, 5], dtype=int64)"
            ]
          },
          "execution_count": 34,
          "metadata": {},
          "output_type": "execute_result"
        }
      ],
      "source": [
        "Y_test.unique()"
      ]
    },
    {
      "cell_type": "markdown",
      "metadata": {
        "id": "inxhE67j8iGW"
      },
      "source": [
        "Feature Extraction\n",
        "\n",
        "\n",
        "\n",
        "\n",
        "---\n",
        "\n",
        "Transforming the text data to feature vectors that can be used as imput to our Machine Learning Model \n",
        "\n",
        "\n",
        "\n"
      ]
    },
    {
      "cell_type": "code",
      "execution_count": 36,
      "metadata": {
        "id": "x7IMDtaU8HjG"
      },
      "outputs": [],
      "source": [
        "from sklearn.feature_extraction.text import TfidfVectorizer\n",
        "tfidf = TfidfVectorizer(stop_words='english', lowercase='True')\n",
        "\n",
        "X_train_new = tfidf.fit_transform(X_train)\n",
        "X_test_new= tfidf.transform(X_test)\n",
        "#converting Y_train and Y_test values as integers\n",
        "\n",
        "Y_train = Y_train.astype('int')\n"
      ]
    },
    {
      "cell_type": "code",
      "execution_count": 37,
      "metadata": {
        "colab": {
          "base_uri": "https://localhost:8080/"
        },
        "id": "8-dKYw1pGSKs",
        "outputId": "be90e1dd-707e-46d1-cebc-5036775616c0"
      },
      "outputs": [
        {
          "data": {
            "text/plain": [
              "<7000x7000 sparse matrix of type '<class 'numpy.float64'>'\n",
              "\twith 7000 stored elements in Compressed Sparse Row format>"
            ]
          },
          "execution_count": 37,
          "metadata": {},
          "output_type": "execute_result"
        }
      ],
      "source": [
        "X_train_new"
      ]
    },
    {
      "cell_type": "code",
      "execution_count": 38,
      "metadata": {
        "colab": {
          "base_uri": "https://localhost:8080/"
        },
        "id": "Ovspn2V79c3g",
        "outputId": "206cbc2d-7ac7-46a3-8e85-3335f7b76731"
      },
      "outputs": [
        {
          "name": "stdout",
          "output_type": "stream",
          "text": [
            "7878    assurancesecuritycom\n",
            "3224           briansperlcom\n",
            "1919     bestdutchcasinoscom\n",
            "4432                funducom\n",
            "4835     southindianbeerscom\n",
            "                ...         \n",
            "6772          fashionbookcom\n",
            "4048      thewildonestourcom\n",
            "623      theshoponthehillcom\n",
            "9952         theoutsiderscom\n",
            "3124              yubaomecom\n",
            "Name: Domain_clean, Length: 3000, dtype: object\n"
          ]
        }
      ],
      "source": [
        "print(X_test)"
      ]
    },
    {
      "attachments": {},
      "cell_type": "markdown",
      "metadata": {},
      "source": [
        "### Model Creating:"
      ]
    },
    {
      "attachments": {},
      "cell_type": "markdown",
      "metadata": {},
      "source": [
        "**1. Suport Vector Machine(SV Classifier)**"
      ]
    },
    {
      "cell_type": "code",
      "execution_count": 39,
      "metadata": {
        "colab": {
          "base_uri": "https://localhost:8080/"
        },
        "id": "ucCQNl2VdOFD",
        "outputId": "83f1bda2-af23-4609-f5af-34f2b2cfe241"
      },
      "outputs": [
        {
          "data": {
            "text/html": [
              "<style>#sk-container-id-1 {color: black;background-color: white;}#sk-container-id-1 pre{padding: 0;}#sk-container-id-1 div.sk-toggleable {background-color: white;}#sk-container-id-1 label.sk-toggleable__label {cursor: pointer;display: block;width: 100%;margin-bottom: 0;padding: 0.3em;box-sizing: border-box;text-align: center;}#sk-container-id-1 label.sk-toggleable__label-arrow:before {content: \"▸\";float: left;margin-right: 0.25em;color: #696969;}#sk-container-id-1 label.sk-toggleable__label-arrow:hover:before {color: black;}#sk-container-id-1 div.sk-estimator:hover label.sk-toggleable__label-arrow:before {color: black;}#sk-container-id-1 div.sk-toggleable__content {max-height: 0;max-width: 0;overflow: hidden;text-align: left;background-color: #f0f8ff;}#sk-container-id-1 div.sk-toggleable__content pre {margin: 0.2em;color: black;border-radius: 0.25em;background-color: #f0f8ff;}#sk-container-id-1 input.sk-toggleable__control:checked~div.sk-toggleable__content {max-height: 200px;max-width: 100%;overflow: auto;}#sk-container-id-1 input.sk-toggleable__control:checked~label.sk-toggleable__label-arrow:before {content: \"▾\";}#sk-container-id-1 div.sk-estimator input.sk-toggleable__control:checked~label.sk-toggleable__label {background-color: #d4ebff;}#sk-container-id-1 div.sk-label input.sk-toggleable__control:checked~label.sk-toggleable__label {background-color: #d4ebff;}#sk-container-id-1 input.sk-hidden--visually {border: 0;clip: rect(1px 1px 1px 1px);clip: rect(1px, 1px, 1px, 1px);height: 1px;margin: -1px;overflow: hidden;padding: 0;position: absolute;width: 1px;}#sk-container-id-1 div.sk-estimator {font-family: monospace;background-color: #f0f8ff;border: 1px dotted black;border-radius: 0.25em;box-sizing: border-box;margin-bottom: 0.5em;}#sk-container-id-1 div.sk-estimator:hover {background-color: #d4ebff;}#sk-container-id-1 div.sk-parallel-item::after {content: \"\";width: 100%;border-bottom: 1px solid gray;flex-grow: 1;}#sk-container-id-1 div.sk-label:hover label.sk-toggleable__label {background-color: #d4ebff;}#sk-container-id-1 div.sk-serial::before {content: \"\";position: absolute;border-left: 1px solid gray;box-sizing: border-box;top: 0;bottom: 0;left: 50%;z-index: 0;}#sk-container-id-1 div.sk-serial {display: flex;flex-direction: column;align-items: center;background-color: white;padding-right: 0.2em;padding-left: 0.2em;position: relative;}#sk-container-id-1 div.sk-item {position: relative;z-index: 1;}#sk-container-id-1 div.sk-parallel {display: flex;align-items: stretch;justify-content: center;background-color: white;position: relative;}#sk-container-id-1 div.sk-item::before, #sk-container-id-1 div.sk-parallel-item::before {content: \"\";position: absolute;border-left: 1px solid gray;box-sizing: border-box;top: 0;bottom: 0;left: 50%;z-index: -1;}#sk-container-id-1 div.sk-parallel-item {display: flex;flex-direction: column;z-index: 1;position: relative;background-color: white;}#sk-container-id-1 div.sk-parallel-item:first-child::after {align-self: flex-end;width: 50%;}#sk-container-id-1 div.sk-parallel-item:last-child::after {align-self: flex-start;width: 50%;}#sk-container-id-1 div.sk-parallel-item:only-child::after {width: 0;}#sk-container-id-1 div.sk-dashed-wrapped {border: 1px dashed gray;margin: 0 0.4em 0.5em 0.4em;box-sizing: border-box;padding-bottom: 0.4em;background-color: white;}#sk-container-id-1 div.sk-label label {font-family: monospace;font-weight: bold;display: inline-block;line-height: 1.2em;}#sk-container-id-1 div.sk-label-container {text-align: center;}#sk-container-id-1 div.sk-container {/* jupyter's `normalize.less` sets `[hidden] { display: none; }` but bootstrap.min.css set `[hidden] { display: none !important; }` so we also need the `!important` here to be able to override the default hidden behavior on the sphinx rendered scikit-learn.org. See: https://github.com/scikit-learn/scikit-learn/issues/21755 */display: inline-block !important;position: relative;}#sk-container-id-1 div.sk-text-repr-fallback {display: none;}</style><div id=\"sk-container-id-1\" class=\"sk-top-container\"><div class=\"sk-text-repr-fallback\"><pre>SVC()</pre><b>In a Jupyter environment, please rerun this cell to show the HTML representation or trust the notebook. <br />On GitHub, the HTML representation is unable to render, please try loading this page with nbviewer.org.</b></div><div class=\"sk-container\" hidden><div class=\"sk-item\"><div class=\"sk-estimator sk-toggleable\"><input class=\"sk-toggleable__control sk-hidden--visually\" id=\"sk-estimator-id-1\" type=\"checkbox\" checked><label for=\"sk-estimator-id-1\" class=\"sk-toggleable__label sk-toggleable__label-arrow\">SVC</label><div class=\"sk-toggleable__content\"><pre>SVC()</pre></div></div></div></div></div>"
            ],
            "text/plain": [
              "SVC()"
            ]
          },
          "execution_count": 39,
          "metadata": {},
          "output_type": "execute_result"
        }
      ],
      "source": [
        "from sklearn.svm import SVC\n",
        "model1 = SVC()\n",
        "model1.fit(X_train_new, Y_train)"
      ]
    },
    {
      "cell_type": "markdown",
      "metadata": {},
      "source": [
        "**Model Evaluation:**"
      ]
    },
    {
      "cell_type": "code",
      "execution_count": 46,
      "metadata": {
        "id": "UOdvbA7Zdwp9"
      },
      "outputs": [
        {
          "name": "stdout",
          "output_type": "stream",
          "text": [
            "SVM Model Training accuracy:  90.24 %\n"
          ]
        }
      ],
      "source": [
        "prediction_on_training_data = model1.predict(X_train_new)\n",
        "accuracy_on_training_data = accuracy_score(Y_train, prediction_on_training_data)\n",
        "print(\"SVM Model Training accuracy: \",round(accuracy_on_training_data*100,2),\"%\")"
      ]
    },
    {
      "cell_type": "code",
      "execution_count": 49,
      "metadata": {
        "colab": {
          "base_uri": "https://localhost:8080/"
        },
        "id": "1MeaN1q4je2I",
        "outputId": "b2ebca3c-b2dc-4d45-e89e-f58927c12138"
      },
      "outputs": [
        {
          "name": "stdout",
          "output_type": "stream",
          "text": [
            "SVM Model Testing accuracy:  60.3 %\n"
          ]
        }
      ],
      "source": [
        "prediction_on_testing = model1.predict(X_test_new)\n",
        "accuracy_on_testing = accuracy_score(Y_test, prediction_on_testing)\n",
        "print(\"SVM Model Testing accuracy: \",round(accuracy_on_testing*100,2),\"%\")"
      ]
    },
    {
      "cell_type": "code",
      "execution_count": 50,
      "metadata": {},
      "outputs": [
        {
          "name": "stdout",
          "output_type": "stream",
          "text": [
            "              precision    recall  f1-score   support\n",
            "\n",
            "           1       0.60      1.00      0.75      1809\n",
            "           2       0.00      0.00      0.00       585\n",
            "           3       0.00      0.00      0.00       289\n",
            "           4       0.00      0.00      0.00       148\n",
            "           5       0.00      0.00      0.00       169\n",
            "\n",
            "    accuracy                           0.60      3000\n",
            "   macro avg       0.12      0.20      0.15      3000\n",
            "weighted avg       0.36      0.60      0.45      3000\n",
            "\n"
          ]
        },
        {
          "name": "stderr",
          "output_type": "stream",
          "text": [
            "c:\\Users\\sanat\\anaconda3\\lib\\site-packages\\sklearn\\metrics\\_classification.py:1327: UndefinedMetricWarning: Precision and F-score are ill-defined and being set to 0.0 in labels with no predicted samples. Use `zero_division` parameter to control this behavior.\n",
            "  _warn_prf(average, modifier, msg_start, len(result))\n",
            "c:\\Users\\sanat\\anaconda3\\lib\\site-packages\\sklearn\\metrics\\_classification.py:1327: UndefinedMetricWarning: Precision and F-score are ill-defined and being set to 0.0 in labels with no predicted samples. Use `zero_division` parameter to control this behavior.\n",
            "  _warn_prf(average, modifier, msg_start, len(result))\n",
            "c:\\Users\\sanat\\anaconda3\\lib\\site-packages\\sklearn\\metrics\\_classification.py:1327: UndefinedMetricWarning: Precision and F-score are ill-defined and being set to 0.0 in labels with no predicted samples. Use `zero_division` parameter to control this behavior.\n",
            "  _warn_prf(average, modifier, msg_start, len(result))\n"
          ]
        }
      ],
      "source": [
        "print(classification_report(Y_test,prediction_on_testing))"
      ]
    },
    {
      "attachments": {},
      "cell_type": "markdown",
      "metadata": {},
      "source": [
        "**Tuning SVM Model:**"
      ]
    },
    {
      "cell_type": "code",
      "execution_count": 63,
      "metadata": {
        "id": "HtJ4ixVx-jNf"
      },
      "outputs": [
        {
          "name": "stdout",
          "output_type": "stream",
          "text": [
            "Fitting 5 folds for each of 50 candidates, totalling 250 fits\n",
            "[CV 1/5] END ........C=0.1, gamma=1, kernel=rbf;, score=0.599 total time=   1.0s\n",
            "[CV 2/5] END ........C=0.1, gamma=1, kernel=rbf;, score=0.599 total time=   1.0s\n",
            "[CV 3/5] END ........C=0.1, gamma=1, kernel=rbf;, score=0.599 total time=   1.0s\n",
            "[CV 4/5] END ........C=0.1, gamma=1, kernel=rbf;, score=0.599 total time=   1.0s\n",
            "[CV 5/5] END ........C=0.1, gamma=1, kernel=rbf;, score=0.599 total time=   1.0s\n",
            "[CV 1/5] END .......C=0.1, gamma=1, kernel=poly;, score=0.599 total time=   0.7s\n",
            "[CV 2/5] END .......C=0.1, gamma=1, kernel=poly;, score=0.599 total time=   0.7s\n",
            "[CV 3/5] END .......C=0.1, gamma=1, kernel=poly;, score=0.599 total time=   0.7s\n",
            "[CV 4/5] END .......C=0.1, gamma=1, kernel=poly;, score=0.599 total time=   0.7s\n",
            "[CV 5/5] END .......C=0.1, gamma=1, kernel=poly;, score=0.599 total time=   0.7s\n",
            "[CV 1/5] END ......C=0.1, gamma=0.1, kernel=rbf;, score=0.599 total time=   0.9s\n",
            "[CV 2/5] END ......C=0.1, gamma=0.1, kernel=rbf;, score=0.599 total time=   0.9s\n",
            "[CV 3/5] END ......C=0.1, gamma=0.1, kernel=rbf;, score=0.599 total time=   0.9s\n",
            "[CV 4/5] END ......C=0.1, gamma=0.1, kernel=rbf;, score=0.599 total time=   0.9s\n",
            "[CV 5/5] END ......C=0.1, gamma=0.1, kernel=rbf;, score=0.599 total time=   0.9s\n",
            "[CV 1/5] END .....C=0.1, gamma=0.1, kernel=poly;, score=0.599 total time=   0.1s\n",
            "[CV 2/5] END .....C=0.1, gamma=0.1, kernel=poly;, score=0.599 total time=   0.1s\n",
            "[CV 3/5] END .....C=0.1, gamma=0.1, kernel=poly;, score=0.599 total time=   0.1s\n",
            "[CV 4/5] END .....C=0.1, gamma=0.1, kernel=poly;, score=0.599 total time=   0.1s\n",
            "[CV 5/5] END .....C=0.1, gamma=0.1, kernel=poly;, score=0.599 total time=   0.1s\n",
            "[CV 1/5] END .....C=0.1, gamma=0.01, kernel=rbf;, score=0.599 total time=   0.4s\n",
            "[CV 2/5] END .....C=0.1, gamma=0.01, kernel=rbf;, score=0.599 total time=   0.4s\n",
            "[CV 3/5] END .....C=0.1, gamma=0.01, kernel=rbf;, score=0.599 total time=   0.4s\n",
            "[CV 4/5] END .....C=0.1, gamma=0.01, kernel=rbf;, score=0.599 total time=   0.4s\n",
            "[CV 5/5] END .....C=0.1, gamma=0.01, kernel=rbf;, score=0.599 total time=   0.4s\n",
            "[CV 1/5] END ....C=0.1, gamma=0.01, kernel=poly;, score=0.599 total time=   0.1s\n",
            "[CV 2/5] END ....C=0.1, gamma=0.01, kernel=poly;, score=0.599 total time=   0.1s\n",
            "[CV 3/5] END ....C=0.1, gamma=0.01, kernel=poly;, score=0.599 total time=   0.1s\n",
            "[CV 4/5] END ....C=0.1, gamma=0.01, kernel=poly;, score=0.599 total time=   0.1s\n",
            "[CV 5/5] END ....C=0.1, gamma=0.01, kernel=poly;, score=0.599 total time=   0.1s\n",
            "[CV 1/5] END ....C=0.1, gamma=0.001, kernel=rbf;, score=0.599 total time=   0.2s\n",
            "[CV 2/5] END ....C=0.1, gamma=0.001, kernel=rbf;, score=0.599 total time=   0.2s\n",
            "[CV 3/5] END ....C=0.1, gamma=0.001, kernel=rbf;, score=0.599 total time=   0.2s\n",
            "[CV 4/5] END ....C=0.1, gamma=0.001, kernel=rbf;, score=0.599 total time=   0.2s\n",
            "[CV 5/5] END ....C=0.1, gamma=0.001, kernel=rbf;, score=0.599 total time=   0.2s\n",
            "[CV 1/5] END ...C=0.1, gamma=0.001, kernel=poly;, score=0.599 total time=   0.1s\n",
            "[CV 2/5] END ...C=0.1, gamma=0.001, kernel=poly;, score=0.599 total time=   0.1s\n",
            "[CV 3/5] END ...C=0.1, gamma=0.001, kernel=poly;, score=0.599 total time=   0.1s\n",
            "[CV 4/5] END ...C=0.1, gamma=0.001, kernel=poly;, score=0.599 total time=   0.1s\n",
            "[CV 5/5] END ...C=0.1, gamma=0.001, kernel=poly;, score=0.599 total time=   0.1s\n",
            "[CV 1/5] END ...C=0.1, gamma=0.0001, kernel=rbf;, score=0.599 total time=   0.2s\n",
            "[CV 2/5] END ...C=0.1, gamma=0.0001, kernel=rbf;, score=0.599 total time=   0.2s\n",
            "[CV 3/5] END ...C=0.1, gamma=0.0001, kernel=rbf;, score=0.599 total time=   0.2s\n",
            "[CV 4/5] END ...C=0.1, gamma=0.0001, kernel=rbf;, score=0.599 total time=   0.2s\n",
            "[CV 5/5] END ...C=0.1, gamma=0.0001, kernel=rbf;, score=0.599 total time=   0.2s\n",
            "[CV 1/5] END ..C=0.1, gamma=0.0001, kernel=poly;, score=0.599 total time=   0.1s\n",
            "[CV 2/5] END ..C=0.1, gamma=0.0001, kernel=poly;, score=0.599 total time=   0.1s\n",
            "[CV 3/5] END ..C=0.1, gamma=0.0001, kernel=poly;, score=0.599 total time=   0.1s\n",
            "[CV 4/5] END ..C=0.1, gamma=0.0001, kernel=poly;, score=0.599 total time=   0.1s\n",
            "[CV 5/5] END ..C=0.1, gamma=0.0001, kernel=poly;, score=0.599 total time=   0.1s\n",
            "[CV 1/5] END ..........C=1, gamma=1, kernel=rbf;, score=0.599 total time=   1.1s\n",
            "[CV 2/5] END ..........C=1, gamma=1, kernel=rbf;, score=0.599 total time=   1.1s\n",
            "[CV 3/5] END ..........C=1, gamma=1, kernel=rbf;, score=0.599 total time=   1.1s\n",
            "[CV 4/5] END ..........C=1, gamma=1, kernel=rbf;, score=0.599 total time=   1.1s\n",
            "[CV 5/5] END ..........C=1, gamma=1, kernel=rbf;, score=0.599 total time=   1.1s\n",
            "[CV 1/5] END .........C=1, gamma=1, kernel=poly;, score=0.599 total time=   0.9s\n",
            "[CV 2/5] END .........C=1, gamma=1, kernel=poly;, score=0.599 total time=   0.9s\n",
            "[CV 3/5] END .........C=1, gamma=1, kernel=poly;, score=0.599 total time=   0.9s\n",
            "[CV 4/5] END .........C=1, gamma=1, kernel=poly;, score=0.599 total time=   0.9s\n",
            "[CV 5/5] END .........C=1, gamma=1, kernel=poly;, score=0.599 total time=   0.9s\n",
            "[CV 1/5] END ........C=1, gamma=0.1, kernel=rbf;, score=0.599 total time=   1.0s\n",
            "[CV 2/5] END ........C=1, gamma=0.1, kernel=rbf;, score=0.599 total time=   1.0s\n",
            "[CV 3/5] END ........C=1, gamma=0.1, kernel=rbf;, score=0.599 total time=   1.0s\n",
            "[CV 4/5] END ........C=1, gamma=0.1, kernel=rbf;, score=0.599 total time=   1.0s\n",
            "[CV 5/5] END ........C=1, gamma=0.1, kernel=rbf;, score=0.599 total time=   1.0s\n",
            "[CV 1/5] END .......C=1, gamma=0.1, kernel=poly;, score=0.599 total time=   0.2s\n",
            "[CV 2/5] END .......C=1, gamma=0.1, kernel=poly;, score=0.599 total time=   0.3s\n",
            "[CV 3/5] END .......C=1, gamma=0.1, kernel=poly;, score=0.599 total time=   0.2s\n",
            "[CV 4/5] END .......C=1, gamma=0.1, kernel=poly;, score=0.599 total time=   0.2s\n",
            "[CV 5/5] END .......C=1, gamma=0.1, kernel=poly;, score=0.599 total time=   0.2s\n",
            "[CV 1/5] END .......C=1, gamma=0.01, kernel=rbf;, score=0.599 total time=   0.9s\n",
            "[CV 2/5] END .......C=1, gamma=0.01, kernel=rbf;, score=0.599 total time=   0.9s\n",
            "[CV 3/5] END .......C=1, gamma=0.01, kernel=rbf;, score=0.599 total time=   0.9s\n",
            "[CV 4/5] END .......C=1, gamma=0.01, kernel=rbf;, score=0.599 total time=   0.9s\n",
            "[CV 5/5] END .......C=1, gamma=0.01, kernel=rbf;, score=0.599 total time=   0.9s\n",
            "[CV 1/5] END ......C=1, gamma=0.01, kernel=poly;, score=0.599 total time=   0.1s\n",
            "[CV 2/5] END ......C=1, gamma=0.01, kernel=poly;, score=0.599 total time=   0.1s\n",
            "[CV 3/5] END ......C=1, gamma=0.01, kernel=poly;, score=0.599 total time=   0.1s\n",
            "[CV 4/5] END ......C=1, gamma=0.01, kernel=poly;, score=0.599 total time=   0.1s\n",
            "[CV 5/5] END ......C=1, gamma=0.01, kernel=poly;, score=0.599 total time=   0.1s\n",
            "[CV 1/5] END ......C=1, gamma=0.001, kernel=rbf;, score=0.599 total time=   0.4s\n",
            "[CV 2/5] END ......C=1, gamma=0.001, kernel=rbf;, score=0.599 total time=   0.4s\n",
            "[CV 3/5] END ......C=1, gamma=0.001, kernel=rbf;, score=0.599 total time=   0.4s\n",
            "[CV 4/5] END ......C=1, gamma=0.001, kernel=rbf;, score=0.599 total time=   0.4s\n",
            "[CV 5/5] END ......C=1, gamma=0.001, kernel=rbf;, score=0.599 total time=   0.4s\n",
            "[CV 1/5] END .....C=1, gamma=0.001, kernel=poly;, score=0.599 total time=   0.1s\n",
            "[CV 2/5] END .....C=1, gamma=0.001, kernel=poly;, score=0.599 total time=   0.1s\n",
            "[CV 3/5] END .....C=1, gamma=0.001, kernel=poly;, score=0.599 total time=   0.1s\n",
            "[CV 4/5] END .....C=1, gamma=0.001, kernel=poly;, score=0.599 total time=   0.1s\n",
            "[CV 5/5] END .....C=1, gamma=0.001, kernel=poly;, score=0.599 total time=   0.1s\n",
            "[CV 1/5] END .....C=1, gamma=0.0001, kernel=rbf;, score=0.599 total time=   0.2s\n",
            "[CV 2/5] END .....C=1, gamma=0.0001, kernel=rbf;, score=0.599 total time=   0.2s\n",
            "[CV 3/5] END .....C=1, gamma=0.0001, kernel=rbf;, score=0.599 total time=   0.2s\n",
            "[CV 4/5] END .....C=1, gamma=0.0001, kernel=rbf;, score=0.599 total time=   0.2s\n",
            "[CV 5/5] END .....C=1, gamma=0.0001, kernel=rbf;, score=0.599 total time=   0.2s\n",
            "[CV 1/5] END ....C=1, gamma=0.0001, kernel=poly;, score=0.599 total time=   0.1s\n",
            "[CV 2/5] END ....C=1, gamma=0.0001, kernel=poly;, score=0.599 total time=   0.1s\n",
            "[CV 3/5] END ....C=1, gamma=0.0001, kernel=poly;, score=0.599 total time=   0.1s\n",
            "[CV 4/5] END ....C=1, gamma=0.0001, kernel=poly;, score=0.599 total time=   0.1s\n",
            "[CV 5/5] END ....C=1, gamma=0.0001, kernel=poly;, score=0.599 total time=   0.1s\n",
            "[CV 1/5] END .........C=10, gamma=1, kernel=rbf;, score=0.599 total time=   1.3s\n",
            "[CV 2/5] END .........C=10, gamma=1, kernel=rbf;, score=0.599 total time=   1.3s\n",
            "[CV 3/5] END .........C=10, gamma=1, kernel=rbf;, score=0.599 total time=   1.3s\n",
            "[CV 4/5] END .........C=10, gamma=1, kernel=rbf;, score=0.599 total time=   1.2s\n",
            "[CV 5/5] END .........C=10, gamma=1, kernel=rbf;, score=0.599 total time=   1.2s\n",
            "[CV 1/5] END ........C=10, gamma=1, kernel=poly;, score=0.599 total time=   1.0s\n",
            "[CV 2/5] END ........C=10, gamma=1, kernel=poly;, score=0.599 total time=   1.0s\n",
            "[CV 3/5] END ........C=10, gamma=1, kernel=poly;, score=0.599 total time=   1.0s\n",
            "[CV 4/5] END ........C=10, gamma=1, kernel=poly;, score=0.599 total time=   1.0s\n",
            "[CV 5/5] END ........C=10, gamma=1, kernel=poly;, score=0.599 total time=   1.0s\n",
            "[CV 1/5] END .......C=10, gamma=0.1, kernel=rbf;, score=0.599 total time=   1.3s\n",
            "[CV 2/5] END .......C=10, gamma=0.1, kernel=rbf;, score=0.599 total time=   1.2s\n",
            "[CV 3/5] END .......C=10, gamma=0.1, kernel=rbf;, score=0.599 total time=   1.3s\n",
            "[CV 4/5] END .......C=10, gamma=0.1, kernel=rbf;, score=0.599 total time=   1.3s\n",
            "[CV 5/5] END .......C=10, gamma=0.1, kernel=rbf;, score=0.599 total time=   1.2s\n",
            "[CV 1/5] END ......C=10, gamma=0.1, kernel=poly;, score=0.599 total time=   0.6s\n",
            "[CV 2/5] END ......C=10, gamma=0.1, kernel=poly;, score=0.599 total time=   0.6s\n",
            "[CV 3/5] END ......C=10, gamma=0.1, kernel=poly;, score=0.599 total time=   0.6s\n",
            "[CV 4/5] END ......C=10, gamma=0.1, kernel=poly;, score=0.599 total time=   0.6s\n",
            "[CV 5/5] END ......C=10, gamma=0.1, kernel=poly;, score=0.599 total time=   0.6s\n",
            "[CV 1/5] END ......C=10, gamma=0.01, kernel=rbf;, score=0.599 total time=   1.0s\n",
            "[CV 2/5] END ......C=10, gamma=0.01, kernel=rbf;, score=0.599 total time=   1.0s\n",
            "[CV 3/5] END ......C=10, gamma=0.01, kernel=rbf;, score=0.599 total time=   1.0s\n",
            "[CV 4/5] END ......C=10, gamma=0.01, kernel=rbf;, score=0.599 total time=   1.0s\n",
            "[CV 5/5] END ......C=10, gamma=0.01, kernel=rbf;, score=0.599 total time=   1.0s\n",
            "[CV 1/5] END .....C=10, gamma=0.01, kernel=poly;, score=0.599 total time=   0.1s\n",
            "[CV 2/5] END .....C=10, gamma=0.01, kernel=poly;, score=0.599 total time=   0.1s\n",
            "[CV 3/5] END .....C=10, gamma=0.01, kernel=poly;, score=0.599 total time=   0.1s\n",
            "[CV 4/5] END .....C=10, gamma=0.01, kernel=poly;, score=0.599 total time=   0.1s\n",
            "[CV 5/5] END .....C=10, gamma=0.01, kernel=poly;, score=0.599 total time=   0.1s\n",
            "[CV 1/5] END .....C=10, gamma=0.001, kernel=rbf;, score=0.599 total time=   0.9s\n",
            "[CV 2/5] END .....C=10, gamma=0.001, kernel=rbf;, score=0.599 total time=   0.9s\n",
            "[CV 3/5] END .....C=10, gamma=0.001, kernel=rbf;, score=0.599 total time=   0.9s\n",
            "[CV 4/5] END .....C=10, gamma=0.001, kernel=rbf;, score=0.599 total time=   0.9s\n",
            "[CV 5/5] END .....C=10, gamma=0.001, kernel=rbf;, score=0.599 total time=   0.9s\n",
            "[CV 1/5] END ....C=10, gamma=0.001, kernel=poly;, score=0.599 total time=   0.1s\n",
            "[CV 2/5] END ....C=10, gamma=0.001, kernel=poly;, score=0.599 total time=   0.1s\n",
            "[CV 3/5] END ....C=10, gamma=0.001, kernel=poly;, score=0.599 total time=   0.1s\n",
            "[CV 4/5] END ....C=10, gamma=0.001, kernel=poly;, score=0.599 total time=   0.1s\n",
            "[CV 5/5] END ....C=10, gamma=0.001, kernel=poly;, score=0.599 total time=   0.1s\n",
            "[CV 1/5] END ....C=10, gamma=0.0001, kernel=rbf;, score=0.599 total time=   0.4s\n",
            "[CV 2/5] END ....C=10, gamma=0.0001, kernel=rbf;, score=0.599 total time=   0.4s\n",
            "[CV 3/5] END ....C=10, gamma=0.0001, kernel=rbf;, score=0.599 total time=   0.4s\n",
            "[CV 4/5] END ....C=10, gamma=0.0001, kernel=rbf;, score=0.599 total time=   0.4s\n",
            "[CV 5/5] END ....C=10, gamma=0.0001, kernel=rbf;, score=0.599 total time=   0.4s\n",
            "[CV 1/5] END ...C=10, gamma=0.0001, kernel=poly;, score=0.599 total time=   0.1s\n",
            "[CV 2/5] END ...C=10, gamma=0.0001, kernel=poly;, score=0.599 total time=   0.1s\n",
            "[CV 3/5] END ...C=10, gamma=0.0001, kernel=poly;, score=0.599 total time=   0.1s\n",
            "[CV 4/5] END ...C=10, gamma=0.0001, kernel=poly;, score=0.599 total time=   0.1s\n",
            "[CV 5/5] END ...C=10, gamma=0.0001, kernel=poly;, score=0.599 total time=   0.1s\n",
            "[CV 1/5] END ........C=100, gamma=1, kernel=rbf;, score=0.599 total time=   1.3s\n",
            "[CV 2/5] END ........C=100, gamma=1, kernel=rbf;, score=0.599 total time=   1.3s\n",
            "[CV 3/5] END ........C=100, gamma=1, kernel=rbf;, score=0.599 total time=   1.3s\n",
            "[CV 4/5] END ........C=100, gamma=1, kernel=rbf;, score=0.599 total time=   1.2s\n",
            "[CV 5/5] END ........C=100, gamma=1, kernel=rbf;, score=0.599 total time=   1.2s\n",
            "[CV 1/5] END .......C=100, gamma=1, kernel=poly;, score=0.599 total time=   1.0s\n",
            "[CV 2/5] END .......C=100, gamma=1, kernel=poly;, score=0.599 total time=   1.0s\n",
            "[CV 3/5] END .......C=100, gamma=1, kernel=poly;, score=0.599 total time=   1.0s\n",
            "[CV 4/5] END .......C=100, gamma=1, kernel=poly;, score=0.599 total time=   1.0s\n",
            "[CV 5/5] END .......C=100, gamma=1, kernel=poly;, score=0.599 total time=   1.0s\n",
            "[CV 1/5] END ......C=100, gamma=0.1, kernel=rbf;, score=0.599 total time=   1.3s\n",
            "[CV 2/5] END ......C=100, gamma=0.1, kernel=rbf;, score=0.599 total time=   1.3s\n",
            "[CV 3/5] END ......C=100, gamma=0.1, kernel=rbf;, score=0.599 total time=   1.3s\n",
            "[CV 4/5] END ......C=100, gamma=0.1, kernel=rbf;, score=0.599 total time=   1.3s\n",
            "[CV 5/5] END ......C=100, gamma=0.1, kernel=rbf;, score=0.599 total time=   1.2s\n",
            "[CV 1/5] END .....C=100, gamma=0.1, kernel=poly;, score=0.599 total time=   0.7s\n",
            "[CV 2/5] END .....C=100, gamma=0.1, kernel=poly;, score=0.599 total time=   0.7s\n",
            "[CV 3/5] END .....C=100, gamma=0.1, kernel=poly;, score=0.599 total time=   0.7s\n",
            "[CV 4/5] END .....C=100, gamma=0.1, kernel=poly;, score=0.599 total time=   0.7s\n",
            "[CV 5/5] END .....C=100, gamma=0.1, kernel=poly;, score=0.599 total time=   0.7s\n",
            "[CV 1/5] END .....C=100, gamma=0.01, kernel=rbf;, score=0.599 total time=   1.3s\n",
            "[CV 2/5] END .....C=100, gamma=0.01, kernel=rbf;, score=0.599 total time=   1.3s\n",
            "[CV 3/5] END .....C=100, gamma=0.01, kernel=rbf;, score=0.599 total time=   1.3s\n",
            "[CV 4/5] END .....C=100, gamma=0.01, kernel=rbf;, score=0.599 total time=   1.2s\n",
            "[CV 5/5] END .....C=100, gamma=0.01, kernel=rbf;, score=0.599 total time=   1.2s\n",
            "[CV 1/5] END ....C=100, gamma=0.01, kernel=poly;, score=0.599 total time=   0.1s\n",
            "[CV 2/5] END ....C=100, gamma=0.01, kernel=poly;, score=0.599 total time=   0.1s\n",
            "[CV 3/5] END ....C=100, gamma=0.01, kernel=poly;, score=0.599 total time=   0.1s\n",
            "[CV 4/5] END ....C=100, gamma=0.01, kernel=poly;, score=0.599 total time=   0.1s\n",
            "[CV 5/5] END ....C=100, gamma=0.01, kernel=poly;, score=0.599 total time=   0.1s\n",
            "[CV 1/5] END ....C=100, gamma=0.001, kernel=rbf;, score=0.599 total time=   1.0s\n",
            "[CV 2/5] END ....C=100, gamma=0.001, kernel=rbf;, score=0.599 total time=   1.0s\n",
            "[CV 3/5] END ....C=100, gamma=0.001, kernel=rbf;, score=0.599 total time=   1.0s\n",
            "[CV 4/5] END ....C=100, gamma=0.001, kernel=rbf;, score=0.599 total time=   1.0s\n",
            "[CV 5/5] END ....C=100, gamma=0.001, kernel=rbf;, score=0.599 total time=   1.0s\n",
            "[CV 1/5] END ...C=100, gamma=0.001, kernel=poly;, score=0.599 total time=   0.1s\n",
            "[CV 2/5] END ...C=100, gamma=0.001, kernel=poly;, score=0.599 total time=   0.1s\n",
            "[CV 3/5] END ...C=100, gamma=0.001, kernel=poly;, score=0.599 total time=   0.1s\n",
            "[CV 4/5] END ...C=100, gamma=0.001, kernel=poly;, score=0.599 total time=   0.1s\n",
            "[CV 5/5] END ...C=100, gamma=0.001, kernel=poly;, score=0.599 total time=   0.1s\n",
            "[CV 1/5] END ...C=100, gamma=0.0001, kernel=rbf;, score=0.599 total time=   0.9s\n",
            "[CV 2/5] END ...C=100, gamma=0.0001, kernel=rbf;, score=0.599 total time=   0.9s\n",
            "[CV 3/5] END ...C=100, gamma=0.0001, kernel=rbf;, score=0.599 total time=   0.9s\n",
            "[CV 4/5] END ...C=100, gamma=0.0001, kernel=rbf;, score=0.599 total time=   0.9s\n",
            "[CV 5/5] END ...C=100, gamma=0.0001, kernel=rbf;, score=0.599 total time=   0.9s\n",
            "[CV 1/5] END ..C=100, gamma=0.0001, kernel=poly;, score=0.599 total time=   0.1s\n",
            "[CV 2/5] END ..C=100, gamma=0.0001, kernel=poly;, score=0.599 total time=   0.1s\n",
            "[CV 3/5] END ..C=100, gamma=0.0001, kernel=poly;, score=0.599 total time=   0.1s\n",
            "[CV 4/5] END ..C=100, gamma=0.0001, kernel=poly;, score=0.599 total time=   0.1s\n",
            "[CV 5/5] END ..C=100, gamma=0.0001, kernel=poly;, score=0.599 total time=   0.1s\n",
            "[CV 1/5] END .......C=1000, gamma=1, kernel=rbf;, score=0.599 total time=   1.3s\n",
            "[CV 2/5] END .......C=1000, gamma=1, kernel=rbf;, score=0.599 total time=   1.3s\n",
            "[CV 3/5] END .......C=1000, gamma=1, kernel=rbf;, score=0.599 total time=   1.3s\n",
            "[CV 4/5] END .......C=1000, gamma=1, kernel=rbf;, score=0.599 total time=   1.2s\n",
            "[CV 5/5] END .......C=1000, gamma=1, kernel=rbf;, score=0.599 total time=   1.2s\n",
            "[CV 1/5] END ......C=1000, gamma=1, kernel=poly;, score=0.599 total time=   1.0s\n",
            "[CV 2/5] END ......C=1000, gamma=1, kernel=poly;, score=0.599 total time=   1.0s\n",
            "[CV 3/5] END ......C=1000, gamma=1, kernel=poly;, score=0.599 total time=   1.0s\n",
            "[CV 4/5] END ......C=1000, gamma=1, kernel=poly;, score=0.599 total time=   1.0s\n",
            "[CV 5/5] END ......C=1000, gamma=1, kernel=poly;, score=0.599 total time=   1.0s\n",
            "[CV 1/5] END .....C=1000, gamma=0.1, kernel=rbf;, score=0.599 total time=   1.3s\n",
            "[CV 2/5] END .....C=1000, gamma=0.1, kernel=rbf;, score=0.599 total time=   1.3s\n",
            "[CV 3/5] END .....C=1000, gamma=0.1, kernel=rbf;, score=0.599 total time=   1.3s\n",
            "[CV 4/5] END .....C=1000, gamma=0.1, kernel=rbf;, score=0.599 total time=   1.3s\n",
            "[CV 5/5] END .....C=1000, gamma=0.1, kernel=rbf;, score=0.599 total time=   1.2s\n",
            "[CV 1/5] END ....C=1000, gamma=0.1, kernel=poly;, score=0.599 total time=   0.9s\n",
            "[CV 2/5] END ....C=1000, gamma=0.1, kernel=poly;, score=0.599 total time=   0.9s\n",
            "[CV 3/5] END ....C=1000, gamma=0.1, kernel=poly;, score=0.599 total time=   0.9s\n",
            "[CV 4/5] END ....C=1000, gamma=0.1, kernel=poly;, score=0.599 total time=   0.9s\n",
            "[CV 5/5] END ....C=1000, gamma=0.1, kernel=poly;, score=0.599 total time=   0.9s\n",
            "[CV 1/5] END ....C=1000, gamma=0.01, kernel=rbf;, score=0.599 total time=   1.3s\n",
            "[CV 2/5] END ....C=1000, gamma=0.01, kernel=rbf;, score=0.599 total time=   1.3s\n",
            "[CV 3/5] END ....C=1000, gamma=0.01, kernel=rbf;, score=0.599 total time=   1.3s\n",
            "[CV 4/5] END ....C=1000, gamma=0.01, kernel=rbf;, score=0.599 total time=   1.3s\n",
            "[CV 5/5] END ....C=1000, gamma=0.01, kernel=rbf;, score=0.599 total time=   1.2s\n",
            "[CV 1/5] END ...C=1000, gamma=0.01, kernel=poly;, score=0.599 total time=   0.1s\n",
            "[CV 2/5] END ...C=1000, gamma=0.01, kernel=poly;, score=0.599 total time=   0.1s\n",
            "[CV 3/5] END ...C=1000, gamma=0.01, kernel=poly;, score=0.599 total time=   0.1s\n",
            "[CV 4/5] END ...C=1000, gamma=0.01, kernel=poly;, score=0.599 total time=   0.1s\n",
            "[CV 5/5] END ...C=1000, gamma=0.01, kernel=poly;, score=0.599 total time=   0.1s\n",
            "[CV 1/5] END ...C=1000, gamma=0.001, kernel=rbf;, score=0.599 total time=   1.2s\n",
            "[CV 2/5] END ...C=1000, gamma=0.001, kernel=rbf;, score=0.599 total time=   1.2s\n",
            "[CV 3/5] END ...C=1000, gamma=0.001, kernel=rbf;, score=0.599 total time=   1.3s\n",
            "[CV 4/5] END ...C=1000, gamma=0.001, kernel=rbf;, score=0.599 total time=   1.2s\n",
            "[CV 5/5] END ...C=1000, gamma=0.001, kernel=rbf;, score=0.599 total time=   1.2s\n",
            "[CV 1/5] END ..C=1000, gamma=0.001, kernel=poly;, score=0.599 total time=   0.1s\n",
            "[CV 2/5] END ..C=1000, gamma=0.001, kernel=poly;, score=0.599 total time=   0.1s\n",
            "[CV 3/5] END ..C=1000, gamma=0.001, kernel=poly;, score=0.599 total time=   0.1s\n",
            "[CV 4/5] END ..C=1000, gamma=0.001, kernel=poly;, score=0.599 total time=   0.1s\n",
            "[CV 5/5] END ..C=1000, gamma=0.001, kernel=poly;, score=0.599 total time=   0.1s\n",
            "[CV 1/5] END ..C=1000, gamma=0.0001, kernel=rbf;, score=0.599 total time=   1.0s\n",
            "[CV 2/5] END ..C=1000, gamma=0.0001, kernel=rbf;, score=0.599 total time=   1.0s\n",
            "[CV 3/5] END ..C=1000, gamma=0.0001, kernel=rbf;, score=0.599 total time=   1.0s\n",
            "[CV 4/5] END ..C=1000, gamma=0.0001, kernel=rbf;, score=0.599 total time=   1.0s\n",
            "[CV 5/5] END ..C=1000, gamma=0.0001, kernel=rbf;, score=0.599 total time=   1.0s\n",
            "[CV 1/5] END .C=1000, gamma=0.0001, kernel=poly;, score=0.599 total time=   0.1s\n",
            "[CV 2/5] END .C=1000, gamma=0.0001, kernel=poly;, score=0.599 total time=   0.1s\n",
            "[CV 3/5] END .C=1000, gamma=0.0001, kernel=poly;, score=0.599 total time=   0.1s\n",
            "[CV 4/5] END .C=1000, gamma=0.0001, kernel=poly;, score=0.599 total time=   0.1s\n",
            "[CV 5/5] END .C=1000, gamma=0.0001, kernel=poly;, score=0.599 total time=   0.1s\n"
          ]
        },
        {
          "data": {
            "text/html": [
              "<style>#sk-container-id-6 {color: black;background-color: white;}#sk-container-id-6 pre{padding: 0;}#sk-container-id-6 div.sk-toggleable {background-color: white;}#sk-container-id-6 label.sk-toggleable__label {cursor: pointer;display: block;width: 100%;margin-bottom: 0;padding: 0.3em;box-sizing: border-box;text-align: center;}#sk-container-id-6 label.sk-toggleable__label-arrow:before {content: \"▸\";float: left;margin-right: 0.25em;color: #696969;}#sk-container-id-6 label.sk-toggleable__label-arrow:hover:before {color: black;}#sk-container-id-6 div.sk-estimator:hover label.sk-toggleable__label-arrow:before {color: black;}#sk-container-id-6 div.sk-toggleable__content {max-height: 0;max-width: 0;overflow: hidden;text-align: left;background-color: #f0f8ff;}#sk-container-id-6 div.sk-toggleable__content pre {margin: 0.2em;color: black;border-radius: 0.25em;background-color: #f0f8ff;}#sk-container-id-6 input.sk-toggleable__control:checked~div.sk-toggleable__content {max-height: 200px;max-width: 100%;overflow: auto;}#sk-container-id-6 input.sk-toggleable__control:checked~label.sk-toggleable__label-arrow:before {content: \"▾\";}#sk-container-id-6 div.sk-estimator input.sk-toggleable__control:checked~label.sk-toggleable__label {background-color: #d4ebff;}#sk-container-id-6 div.sk-label input.sk-toggleable__control:checked~label.sk-toggleable__label {background-color: #d4ebff;}#sk-container-id-6 input.sk-hidden--visually {border: 0;clip: rect(1px 1px 1px 1px);clip: rect(1px, 1px, 1px, 1px);height: 1px;margin: -1px;overflow: hidden;padding: 0;position: absolute;width: 1px;}#sk-container-id-6 div.sk-estimator {font-family: monospace;background-color: #f0f8ff;border: 1px dotted black;border-radius: 0.25em;box-sizing: border-box;margin-bottom: 0.5em;}#sk-container-id-6 div.sk-estimator:hover {background-color: #d4ebff;}#sk-container-id-6 div.sk-parallel-item::after {content: \"\";width: 100%;border-bottom: 1px solid gray;flex-grow: 1;}#sk-container-id-6 div.sk-label:hover label.sk-toggleable__label {background-color: #d4ebff;}#sk-container-id-6 div.sk-serial::before {content: \"\";position: absolute;border-left: 1px solid gray;box-sizing: border-box;top: 0;bottom: 0;left: 50%;z-index: 0;}#sk-container-id-6 div.sk-serial {display: flex;flex-direction: column;align-items: center;background-color: white;padding-right: 0.2em;padding-left: 0.2em;position: relative;}#sk-container-id-6 div.sk-item {position: relative;z-index: 1;}#sk-container-id-6 div.sk-parallel {display: flex;align-items: stretch;justify-content: center;background-color: white;position: relative;}#sk-container-id-6 div.sk-item::before, #sk-container-id-6 div.sk-parallel-item::before {content: \"\";position: absolute;border-left: 1px solid gray;box-sizing: border-box;top: 0;bottom: 0;left: 50%;z-index: -1;}#sk-container-id-6 div.sk-parallel-item {display: flex;flex-direction: column;z-index: 1;position: relative;background-color: white;}#sk-container-id-6 div.sk-parallel-item:first-child::after {align-self: flex-end;width: 50%;}#sk-container-id-6 div.sk-parallel-item:last-child::after {align-self: flex-start;width: 50%;}#sk-container-id-6 div.sk-parallel-item:only-child::after {width: 0;}#sk-container-id-6 div.sk-dashed-wrapped {border: 1px dashed gray;margin: 0 0.4em 0.5em 0.4em;box-sizing: border-box;padding-bottom: 0.4em;background-color: white;}#sk-container-id-6 div.sk-label label {font-family: monospace;font-weight: bold;display: inline-block;line-height: 1.2em;}#sk-container-id-6 div.sk-label-container {text-align: center;}#sk-container-id-6 div.sk-container {/* jupyter's `normalize.less` sets `[hidden] { display: none; }` but bootstrap.min.css set `[hidden] { display: none !important; }` so we also need the `!important` here to be able to override the default hidden behavior on the sphinx rendered scikit-learn.org. See: https://github.com/scikit-learn/scikit-learn/issues/21755 */display: inline-block !important;position: relative;}#sk-container-id-6 div.sk-text-repr-fallback {display: none;}</style><div id=\"sk-container-id-6\" class=\"sk-top-container\"><div class=\"sk-text-repr-fallback\"><pre>GridSearchCV(estimator=SVC(),\n",
              "             param_grid={&#x27;C&#x27;: [0.1, 1, 10, 100, 1000],\n",
              "                         &#x27;gamma&#x27;: [1, 0.1, 0.01, 0.001, 0.0001],\n",
              "                         &#x27;kernel&#x27;: [&#x27;rbf&#x27;, &#x27;poly&#x27;]},\n",
              "             verbose=3)</pre><b>In a Jupyter environment, please rerun this cell to show the HTML representation or trust the notebook. <br />On GitHub, the HTML representation is unable to render, please try loading this page with nbviewer.org.</b></div><div class=\"sk-container\" hidden><div class=\"sk-item sk-dashed-wrapped\"><div class=\"sk-label-container\"><div class=\"sk-label sk-toggleable\"><input class=\"sk-toggleable__control sk-hidden--visually\" id=\"sk-estimator-id-8\" type=\"checkbox\" ><label for=\"sk-estimator-id-8\" class=\"sk-toggleable__label sk-toggleable__label-arrow\">GridSearchCV</label><div class=\"sk-toggleable__content\"><pre>GridSearchCV(estimator=SVC(),\n",
              "             param_grid={&#x27;C&#x27;: [0.1, 1, 10, 100, 1000],\n",
              "                         &#x27;gamma&#x27;: [1, 0.1, 0.01, 0.001, 0.0001],\n",
              "                         &#x27;kernel&#x27;: [&#x27;rbf&#x27;, &#x27;poly&#x27;]},\n",
              "             verbose=3)</pre></div></div></div><div class=\"sk-parallel\"><div class=\"sk-parallel-item\"><div class=\"sk-item\"><div class=\"sk-label-container\"><div class=\"sk-label sk-toggleable\"><input class=\"sk-toggleable__control sk-hidden--visually\" id=\"sk-estimator-id-9\" type=\"checkbox\" ><label for=\"sk-estimator-id-9\" class=\"sk-toggleable__label sk-toggleable__label-arrow\">estimator: SVC</label><div class=\"sk-toggleable__content\"><pre>SVC()</pre></div></div></div><div class=\"sk-serial\"><div class=\"sk-item\"><div class=\"sk-estimator sk-toggleable\"><input class=\"sk-toggleable__control sk-hidden--visually\" id=\"sk-estimator-id-10\" type=\"checkbox\" ><label for=\"sk-estimator-id-10\" class=\"sk-toggleable__label sk-toggleable__label-arrow\">SVC</label><div class=\"sk-toggleable__content\"><pre>SVC()</pre></div></div></div></div></div></div></div></div></div></div>"
            ],
            "text/plain": [
              "GridSearchCV(estimator=SVC(),\n",
              "             param_grid={'C': [0.1, 1, 10, 100, 1000],\n",
              "                         'gamma': [1, 0.1, 0.01, 0.001, 0.0001],\n",
              "                         'kernel': ['rbf', 'poly']},\n",
              "             verbose=3)"
            ]
          },
          "execution_count": 63,
          "metadata": {},
          "output_type": "execute_result"
        }
      ],
      "source": [
        "from sklearn.svm import SVC \n",
        "from sklearn.model_selection import GridSearchCV \n",
        "\n",
        "# defining parameter range\n",
        "param_grid = {'C': [0.1, 1, 10, 100, 1000], \n",
        "              'gamma': [1, 0.1, 0.01, 0.001, 0.0001],\n",
        "              'kernel': ['rbf','poly']} \n",
        "grid = GridSearchCV(SVC(), param_grid, refit=True, verbose =3) \n",
        "grid.fit(X_train_new, Y_train)"
      ]
    },
    {
      "cell_type": "code",
      "execution_count": 64,
      "metadata": {},
      "outputs": [
        {
          "name": "stdout",
          "output_type": "stream",
          "text": [
            "Best Parameters are:  {'C': 0.1, 'gamma': 1, 'kernel': 'rbf'}\n",
            "Highest Accuracy Achieved:  59.87 %\n"
          ]
        }
      ],
      "source": [
        "print(\"Best Parameters are: \",grid.best_params_)\n",
        "print(\"Highest Accuracy Achieved: \",round(grid.best_score_*100,2),\"%\")"
      ]
    },
    {
      "cell_type": "markdown",
      "metadata": {},
      "source": [
        "**Evaluating the tuned SVM:**"
      ]
    },
    {
      "cell_type": "code",
      "execution_count": 65,
      "metadata": {},
      "outputs": [
        {
          "data": {
            "text/html": [
              "<style>#sk-container-id-7 {color: black;background-color: white;}#sk-container-id-7 pre{padding: 0;}#sk-container-id-7 div.sk-toggleable {background-color: white;}#sk-container-id-7 label.sk-toggleable__label {cursor: pointer;display: block;width: 100%;margin-bottom: 0;padding: 0.3em;box-sizing: border-box;text-align: center;}#sk-container-id-7 label.sk-toggleable__label-arrow:before {content: \"▸\";float: left;margin-right: 0.25em;color: #696969;}#sk-container-id-7 label.sk-toggleable__label-arrow:hover:before {color: black;}#sk-container-id-7 div.sk-estimator:hover label.sk-toggleable__label-arrow:before {color: black;}#sk-container-id-7 div.sk-toggleable__content {max-height: 0;max-width: 0;overflow: hidden;text-align: left;background-color: #f0f8ff;}#sk-container-id-7 div.sk-toggleable__content pre {margin: 0.2em;color: black;border-radius: 0.25em;background-color: #f0f8ff;}#sk-container-id-7 input.sk-toggleable__control:checked~div.sk-toggleable__content {max-height: 200px;max-width: 100%;overflow: auto;}#sk-container-id-7 input.sk-toggleable__control:checked~label.sk-toggleable__label-arrow:before {content: \"▾\";}#sk-container-id-7 div.sk-estimator input.sk-toggleable__control:checked~label.sk-toggleable__label {background-color: #d4ebff;}#sk-container-id-7 div.sk-label input.sk-toggleable__control:checked~label.sk-toggleable__label {background-color: #d4ebff;}#sk-container-id-7 input.sk-hidden--visually {border: 0;clip: rect(1px 1px 1px 1px);clip: rect(1px, 1px, 1px, 1px);height: 1px;margin: -1px;overflow: hidden;padding: 0;position: absolute;width: 1px;}#sk-container-id-7 div.sk-estimator {font-family: monospace;background-color: #f0f8ff;border: 1px dotted black;border-radius: 0.25em;box-sizing: border-box;margin-bottom: 0.5em;}#sk-container-id-7 div.sk-estimator:hover {background-color: #d4ebff;}#sk-container-id-7 div.sk-parallel-item::after {content: \"\";width: 100%;border-bottom: 1px solid gray;flex-grow: 1;}#sk-container-id-7 div.sk-label:hover label.sk-toggleable__label {background-color: #d4ebff;}#sk-container-id-7 div.sk-serial::before {content: \"\";position: absolute;border-left: 1px solid gray;box-sizing: border-box;top: 0;bottom: 0;left: 50%;z-index: 0;}#sk-container-id-7 div.sk-serial {display: flex;flex-direction: column;align-items: center;background-color: white;padding-right: 0.2em;padding-left: 0.2em;position: relative;}#sk-container-id-7 div.sk-item {position: relative;z-index: 1;}#sk-container-id-7 div.sk-parallel {display: flex;align-items: stretch;justify-content: center;background-color: white;position: relative;}#sk-container-id-7 div.sk-item::before, #sk-container-id-7 div.sk-parallel-item::before {content: \"\";position: absolute;border-left: 1px solid gray;box-sizing: border-box;top: 0;bottom: 0;left: 50%;z-index: -1;}#sk-container-id-7 div.sk-parallel-item {display: flex;flex-direction: column;z-index: 1;position: relative;background-color: white;}#sk-container-id-7 div.sk-parallel-item:first-child::after {align-self: flex-end;width: 50%;}#sk-container-id-7 div.sk-parallel-item:last-child::after {align-self: flex-start;width: 50%;}#sk-container-id-7 div.sk-parallel-item:only-child::after {width: 0;}#sk-container-id-7 div.sk-dashed-wrapped {border: 1px dashed gray;margin: 0 0.4em 0.5em 0.4em;box-sizing: border-box;padding-bottom: 0.4em;background-color: white;}#sk-container-id-7 div.sk-label label {font-family: monospace;font-weight: bold;display: inline-block;line-height: 1.2em;}#sk-container-id-7 div.sk-label-container {text-align: center;}#sk-container-id-7 div.sk-container {/* jupyter's `normalize.less` sets `[hidden] { display: none; }` but bootstrap.min.css set `[hidden] { display: none !important; }` so we also need the `!important` here to be able to override the default hidden behavior on the sphinx rendered scikit-learn.org. See: https://github.com/scikit-learn/scikit-learn/issues/21755 */display: inline-block !important;position: relative;}#sk-container-id-7 div.sk-text-repr-fallback {display: none;}</style><div id=\"sk-container-id-7\" class=\"sk-top-container\"><div class=\"sk-text-repr-fallback\"><pre>SVC(C=0.1, gamma=1)</pre><b>In a Jupyter environment, please rerun this cell to show the HTML representation or trust the notebook. <br />On GitHub, the HTML representation is unable to render, please try loading this page with nbviewer.org.</b></div><div class=\"sk-container\" hidden><div class=\"sk-item\"><div class=\"sk-estimator sk-toggleable\"><input class=\"sk-toggleable__control sk-hidden--visually\" id=\"sk-estimator-id-11\" type=\"checkbox\" checked><label for=\"sk-estimator-id-11\" class=\"sk-toggleable__label sk-toggleable__label-arrow\">SVC</label><div class=\"sk-toggleable__content\"><pre>SVC(C=0.1, gamma=1)</pre></div></div></div></div></div>"
            ],
            "text/plain": [
              "SVC(C=0.1, gamma=1)"
            ]
          },
          "execution_count": 65,
          "metadata": {},
          "output_type": "execute_result"
        }
      ],
      "source": [
        "sv_tuned=SVC(C= 0.1, gamma= 1, kernel= 'rbf')\n",
        "sv_tuned.fit(X_train_new,Y_train)"
      ]
    },
    {
      "cell_type": "code",
      "execution_count": 66,
      "metadata": {},
      "outputs": [
        {
          "name": "stdout",
          "output_type": "stream",
          "text": [
            "SVM Model(Tuned) Training accuracy:  59.87 %\n"
          ]
        }
      ],
      "source": [
        "prediction_on_training_data = sv_tuned.predict(X_train_new)\n",
        "accuracy_on_training_data = accuracy_score(Y_train, prediction_on_training_data)\n",
        "print(\"SVM Model(Tuned) Training accuracy: \",round(accuracy_on_training_data*100,2),\"%\")"
      ]
    },
    {
      "cell_type": "code",
      "execution_count": 67,
      "metadata": {},
      "outputs": [
        {
          "name": "stdout",
          "output_type": "stream",
          "text": [
            "SVM Model Testing accuracy:  60.3 %\n"
          ]
        }
      ],
      "source": [
        "prediction_on_testing = sv_tuned.predict(X_test_new)\n",
        "accuracy_on_testing = accuracy_score(Y_test, prediction_on_testing)\n",
        "print(\"SVM Model Testing accuracy: \",round(accuracy_on_testing*100,2),\"%\")"
      ]
    },
    {
      "cell_type": "markdown",
      "metadata": {},
      "source": [
        "**2.Random Forest Classifier**"
      ]
    },
    {
      "cell_type": "code",
      "execution_count": 68,
      "metadata": {},
      "outputs": [
        {
          "data": {
            "text/html": [
              "<style>#sk-container-id-8 {color: black;background-color: white;}#sk-container-id-8 pre{padding: 0;}#sk-container-id-8 div.sk-toggleable {background-color: white;}#sk-container-id-8 label.sk-toggleable__label {cursor: pointer;display: block;width: 100%;margin-bottom: 0;padding: 0.3em;box-sizing: border-box;text-align: center;}#sk-container-id-8 label.sk-toggleable__label-arrow:before {content: \"▸\";float: left;margin-right: 0.25em;color: #696969;}#sk-container-id-8 label.sk-toggleable__label-arrow:hover:before {color: black;}#sk-container-id-8 div.sk-estimator:hover label.sk-toggleable__label-arrow:before {color: black;}#sk-container-id-8 div.sk-toggleable__content {max-height: 0;max-width: 0;overflow: hidden;text-align: left;background-color: #f0f8ff;}#sk-container-id-8 div.sk-toggleable__content pre {margin: 0.2em;color: black;border-radius: 0.25em;background-color: #f0f8ff;}#sk-container-id-8 input.sk-toggleable__control:checked~div.sk-toggleable__content {max-height: 200px;max-width: 100%;overflow: auto;}#sk-container-id-8 input.sk-toggleable__control:checked~label.sk-toggleable__label-arrow:before {content: \"▾\";}#sk-container-id-8 div.sk-estimator input.sk-toggleable__control:checked~label.sk-toggleable__label {background-color: #d4ebff;}#sk-container-id-8 div.sk-label input.sk-toggleable__control:checked~label.sk-toggleable__label {background-color: #d4ebff;}#sk-container-id-8 input.sk-hidden--visually {border: 0;clip: rect(1px 1px 1px 1px);clip: rect(1px, 1px, 1px, 1px);height: 1px;margin: -1px;overflow: hidden;padding: 0;position: absolute;width: 1px;}#sk-container-id-8 div.sk-estimator {font-family: monospace;background-color: #f0f8ff;border: 1px dotted black;border-radius: 0.25em;box-sizing: border-box;margin-bottom: 0.5em;}#sk-container-id-8 div.sk-estimator:hover {background-color: #d4ebff;}#sk-container-id-8 div.sk-parallel-item::after {content: \"\";width: 100%;border-bottom: 1px solid gray;flex-grow: 1;}#sk-container-id-8 div.sk-label:hover label.sk-toggleable__label {background-color: #d4ebff;}#sk-container-id-8 div.sk-serial::before {content: \"\";position: absolute;border-left: 1px solid gray;box-sizing: border-box;top: 0;bottom: 0;left: 50%;z-index: 0;}#sk-container-id-8 div.sk-serial {display: flex;flex-direction: column;align-items: center;background-color: white;padding-right: 0.2em;padding-left: 0.2em;position: relative;}#sk-container-id-8 div.sk-item {position: relative;z-index: 1;}#sk-container-id-8 div.sk-parallel {display: flex;align-items: stretch;justify-content: center;background-color: white;position: relative;}#sk-container-id-8 div.sk-item::before, #sk-container-id-8 div.sk-parallel-item::before {content: \"\";position: absolute;border-left: 1px solid gray;box-sizing: border-box;top: 0;bottom: 0;left: 50%;z-index: -1;}#sk-container-id-8 div.sk-parallel-item {display: flex;flex-direction: column;z-index: 1;position: relative;background-color: white;}#sk-container-id-8 div.sk-parallel-item:first-child::after {align-self: flex-end;width: 50%;}#sk-container-id-8 div.sk-parallel-item:last-child::after {align-self: flex-start;width: 50%;}#sk-container-id-8 div.sk-parallel-item:only-child::after {width: 0;}#sk-container-id-8 div.sk-dashed-wrapped {border: 1px dashed gray;margin: 0 0.4em 0.5em 0.4em;box-sizing: border-box;padding-bottom: 0.4em;background-color: white;}#sk-container-id-8 div.sk-label label {font-family: monospace;font-weight: bold;display: inline-block;line-height: 1.2em;}#sk-container-id-8 div.sk-label-container {text-align: center;}#sk-container-id-8 div.sk-container {/* jupyter's `normalize.less` sets `[hidden] { display: none; }` but bootstrap.min.css set `[hidden] { display: none !important; }` so we also need the `!important` here to be able to override the default hidden behavior on the sphinx rendered scikit-learn.org. See: https://github.com/scikit-learn/scikit-learn/issues/21755 */display: inline-block !important;position: relative;}#sk-container-id-8 div.sk-text-repr-fallback {display: none;}</style><div id=\"sk-container-id-8\" class=\"sk-top-container\"><div class=\"sk-text-repr-fallback\"><pre>RandomForestClassifier()</pre><b>In a Jupyter environment, please rerun this cell to show the HTML representation or trust the notebook. <br />On GitHub, the HTML representation is unable to render, please try loading this page with nbviewer.org.</b></div><div class=\"sk-container\" hidden><div class=\"sk-item\"><div class=\"sk-estimator sk-toggleable\"><input class=\"sk-toggleable__control sk-hidden--visually\" id=\"sk-estimator-id-12\" type=\"checkbox\" checked><label for=\"sk-estimator-id-12\" class=\"sk-toggleable__label sk-toggleable__label-arrow\">RandomForestClassifier</label><div class=\"sk-toggleable__content\"><pre>RandomForestClassifier()</pre></div></div></div></div></div>"
            ],
            "text/plain": [
              "RandomForestClassifier()"
            ]
          },
          "execution_count": 68,
          "metadata": {},
          "output_type": "execute_result"
        }
      ],
      "source": [
        "from sklearn.ensemble import RandomForestClassifier\n",
        "Model2=RandomForestClassifier()\n",
        "Model2.fit(X_train_new,Y_train)"
      ]
    },
    {
      "cell_type": "markdown",
      "metadata": {},
      "source": [
        "**Evaluating Model:**"
      ]
    },
    {
      "cell_type": "code",
      "execution_count": 70,
      "metadata": {},
      "outputs": [
        {
          "name": "stdout",
          "output_type": "stream",
          "text": [
            "Random Forest Model Training accuracy:  99.8 %\n"
          ]
        }
      ],
      "source": [
        "prediction_on_training_data = Model2.predict(X_train_new)\n",
        "accuracy_on_training_data = accuracy_score(Y_train, prediction_on_training_data)\n",
        "print(\"Random Forest Model Training accuracy: \",round(accuracy_on_training_data*100,2),\"%\")"
      ]
    },
    {
      "cell_type": "code",
      "execution_count": 71,
      "metadata": {
        "id": "1_qpl9UBASAt"
      },
      "outputs": [
        {
          "name": "stdout",
          "output_type": "stream",
          "text": [
            "Random Forest Model Testing accuracy:  60.3 %\n"
          ]
        }
      ],
      "source": [
        "prediction_on_testing = Model2.predict(X_test_new)\n",
        "accuracy_on_testing = accuracy_score(Y_test, prediction_on_testing)\n",
        "print(\"Random Forest Model Testing accuracy: \",round(accuracy_on_testing*100,2),\"%\")"
      ]
    },
    {
      "cell_type": "code",
      "execution_count": 73,
      "metadata": {
        "colab": {
          "base_uri": "https://localhost:8080/"
        },
        "id": "sxdZxg7nAnn2",
        "outputId": "10dfd972-50ff-49ba-c29b-7f81d007b21c"
      },
      "outputs": [
        {
          "name": "stdout",
          "output_type": "stream",
          "text": [
            "              precision    recall  f1-score   support\n",
            "\n",
            "           1       0.60      1.00      0.75      1809\n",
            "           2       0.00      0.00      0.00       585\n",
            "           3       0.00      0.00      0.00       289\n",
            "           4       0.00      0.00      0.00       148\n",
            "           5       0.00      0.00      0.00       169\n",
            "\n",
            "    accuracy                           0.60      3000\n",
            "   macro avg       0.12      0.20      0.15      3000\n",
            "weighted avg       0.36      0.60      0.45      3000\n",
            "\n"
          ]
        }
      ],
      "source": [
        "print(classification_report(Y_test,prediction_on_testing))"
      ]
    },
    {
      "cell_type": "code",
      "execution_count": 79,
      "metadata": {},
      "outputs": [
        {
          "name": "stdout",
          "output_type": "stream",
          "text": [
            "Fitting 3 folds for each of 100 candidates, totalling 300 fits\n",
            "Best paramters: {'n_estimators': 9, 'min_samples_split': 10, 'min_samples_leaf': 2, 'max_features': 'auto', 'max_depth': 8, 'bootstrap': False})\n"
          ]
        }
      ],
      "source": [
        "#Hyperparameter Tuning for Random Forest\n",
        "from sklearn.model_selection import RandomizedSearchCV\n",
        "\n",
        "n_estimators = [int(x) for x in np.linspace(start=5, stop=45, num=10)]#List Comprehension-using for loop in list\n",
        "max_features = ['auto', 'sqrt']#maximum number of features allowed to try in individual tree\n",
        "max_depth = [int(x) for x in np.linspace(2, 8, num=2)]#List Comprehension-using for loop in list\n",
        "max_depth.append(None)\n",
        "min_samples_split = [2, 5, 10]#minimum number of samples required to split an internal node\n",
        "min_samples_leaf = [1, 2, 4]#minimum number of samples required to be at a leaf node.\n",
        "bootstrap = [True, False]#sampling \n",
        "\n",
        "#dictionary for hyperparameters\n",
        "random_grid = {'n_estimators': n_estimators, 'max_features': max_features,\n",
        "               'max_depth': max_depth, 'min_samples_split': min_samples_split,\n",
        "               'min_samples_leaf': min_samples_leaf, 'bootstrap': bootstrap}\n",
        "\n",
        "rfc_tuned = RandomizedSearchCV(estimator=Model2, scoring='accuracy',param_distributions=random_grid, n_iter=100, cv=3, \n",
        "                               verbose=2, n_jobs=-1)\n",
        "rfc_tuned.fit(X_train_new,Y_train)\n",
        "rf_best_params = rfc_tuned.best_params_##it will give you best parameters \n",
        "print(f\"Best paramters: {rf_best_params})\") "
      ]
    },
    {
      "cell_type": "code",
      "execution_count": null,
      "metadata": {},
      "outputs": [],
      "source": [
        "print(\"Best Parameters are: \",rfc_tuned.best_params_)\n",
        "print(\"Highest Accuracy Achieved: \",round(rfc_tuned.best_score_*100,2),\"%\")"
      ]
    },
    {
      "attachments": {},
      "cell_type": "markdown",
      "metadata": {},
      "source": [
        "**Evaluating Tuned Random Forest Model:**"
      ]
    },
    {
      "cell_type": "code",
      "execution_count": 80,
      "metadata": {},
      "outputs": [
        {
          "data": {
            "text/html": [
              "<style>#sk-container-id-10 {color: black;background-color: white;}#sk-container-id-10 pre{padding: 0;}#sk-container-id-10 div.sk-toggleable {background-color: white;}#sk-container-id-10 label.sk-toggleable__label {cursor: pointer;display: block;width: 100%;margin-bottom: 0;padding: 0.3em;box-sizing: border-box;text-align: center;}#sk-container-id-10 label.sk-toggleable__label-arrow:before {content: \"▸\";float: left;margin-right: 0.25em;color: #696969;}#sk-container-id-10 label.sk-toggleable__label-arrow:hover:before {color: black;}#sk-container-id-10 div.sk-estimator:hover label.sk-toggleable__label-arrow:before {color: black;}#sk-container-id-10 div.sk-toggleable__content {max-height: 0;max-width: 0;overflow: hidden;text-align: left;background-color: #f0f8ff;}#sk-container-id-10 div.sk-toggleable__content pre {margin: 0.2em;color: black;border-radius: 0.25em;background-color: #f0f8ff;}#sk-container-id-10 input.sk-toggleable__control:checked~div.sk-toggleable__content {max-height: 200px;max-width: 100%;overflow: auto;}#sk-container-id-10 input.sk-toggleable__control:checked~label.sk-toggleable__label-arrow:before {content: \"▾\";}#sk-container-id-10 div.sk-estimator input.sk-toggleable__control:checked~label.sk-toggleable__label {background-color: #d4ebff;}#sk-container-id-10 div.sk-label input.sk-toggleable__control:checked~label.sk-toggleable__label {background-color: #d4ebff;}#sk-container-id-10 input.sk-hidden--visually {border: 0;clip: rect(1px 1px 1px 1px);clip: rect(1px, 1px, 1px, 1px);height: 1px;margin: -1px;overflow: hidden;padding: 0;position: absolute;width: 1px;}#sk-container-id-10 div.sk-estimator {font-family: monospace;background-color: #f0f8ff;border: 1px dotted black;border-radius: 0.25em;box-sizing: border-box;margin-bottom: 0.5em;}#sk-container-id-10 div.sk-estimator:hover {background-color: #d4ebff;}#sk-container-id-10 div.sk-parallel-item::after {content: \"\";width: 100%;border-bottom: 1px solid gray;flex-grow: 1;}#sk-container-id-10 div.sk-label:hover label.sk-toggleable__label {background-color: #d4ebff;}#sk-container-id-10 div.sk-serial::before {content: \"\";position: absolute;border-left: 1px solid gray;box-sizing: border-box;top: 0;bottom: 0;left: 50%;z-index: 0;}#sk-container-id-10 div.sk-serial {display: flex;flex-direction: column;align-items: center;background-color: white;padding-right: 0.2em;padding-left: 0.2em;position: relative;}#sk-container-id-10 div.sk-item {position: relative;z-index: 1;}#sk-container-id-10 div.sk-parallel {display: flex;align-items: stretch;justify-content: center;background-color: white;position: relative;}#sk-container-id-10 div.sk-item::before, #sk-container-id-10 div.sk-parallel-item::before {content: \"\";position: absolute;border-left: 1px solid gray;box-sizing: border-box;top: 0;bottom: 0;left: 50%;z-index: -1;}#sk-container-id-10 div.sk-parallel-item {display: flex;flex-direction: column;z-index: 1;position: relative;background-color: white;}#sk-container-id-10 div.sk-parallel-item:first-child::after {align-self: flex-end;width: 50%;}#sk-container-id-10 div.sk-parallel-item:last-child::after {align-self: flex-start;width: 50%;}#sk-container-id-10 div.sk-parallel-item:only-child::after {width: 0;}#sk-container-id-10 div.sk-dashed-wrapped {border: 1px dashed gray;margin: 0 0.4em 0.5em 0.4em;box-sizing: border-box;padding-bottom: 0.4em;background-color: white;}#sk-container-id-10 div.sk-label label {font-family: monospace;font-weight: bold;display: inline-block;line-height: 1.2em;}#sk-container-id-10 div.sk-label-container {text-align: center;}#sk-container-id-10 div.sk-container {/* jupyter's `normalize.less` sets `[hidden] { display: none; }` but bootstrap.min.css set `[hidden] { display: none !important; }` so we also need the `!important` here to be able to override the default hidden behavior on the sphinx rendered scikit-learn.org. See: https://github.com/scikit-learn/scikit-learn/issues/21755 */display: inline-block !important;position: relative;}#sk-container-id-10 div.sk-text-repr-fallback {display: none;}</style><div id=\"sk-container-id-10\" class=\"sk-top-container\"><div class=\"sk-text-repr-fallback\"><pre>RandomForestClassifier(bootstrap=False, max_depth=8, max_features=&#x27;auto&#x27;,\n",
              "                       min_samples_leaf=2, min_samples_split=10,\n",
              "                       n_estimators=9)</pre><b>In a Jupyter environment, please rerun this cell to show the HTML representation or trust the notebook. <br />On GitHub, the HTML representation is unable to render, please try loading this page with nbviewer.org.</b></div><div class=\"sk-container\" hidden><div class=\"sk-item\"><div class=\"sk-estimator sk-toggleable\"><input class=\"sk-toggleable__control sk-hidden--visually\" id=\"sk-estimator-id-14\" type=\"checkbox\" checked><label for=\"sk-estimator-id-14\" class=\"sk-toggleable__label sk-toggleable__label-arrow\">RandomForestClassifier</label><div class=\"sk-toggleable__content\"><pre>RandomForestClassifier(bootstrap=False, max_depth=8, max_features=&#x27;auto&#x27;,\n",
              "                       min_samples_leaf=2, min_samples_split=10,\n",
              "                       n_estimators=9)</pre></div></div></div></div></div>"
            ],
            "text/plain": [
              "RandomForestClassifier(bootstrap=False, max_depth=8, max_features='auto',\n",
              "                       min_samples_leaf=2, min_samples_split=10,\n",
              "                       n_estimators=9)"
            ]
          },
          "execution_count": 80,
          "metadata": {},
          "output_type": "execute_result"
        }
      ],
      "source": [
        "rfc_tuned=RandomForestClassifier(n_estimators= 9, min_samples_split= 10, min_samples_leaf= 2, max_features ='auto',max_depth=8,bootstrap= False)\n",
        "rfc_tuned.fit(X_train_new,Y_train)"
      ]
    },
    {
      "cell_type": "code",
      "execution_count": 81,
      "metadata": {},
      "outputs": [
        {
          "name": "stdout",
          "output_type": "stream",
          "text": [
            "Random Forest Model Training accuracy:  59.87 %\n"
          ]
        }
      ],
      "source": [
        "prediction_on_training_data = rfc_tuned.predict(X_train_new)\n",
        "accuracy_on_training_data = accuracy_score(Y_train, prediction_on_training_data)\n",
        "print(\"Random Forest Model Training accuracy: \",round(accuracy_on_training_data*100,2),\"%\")"
      ]
    },
    {
      "cell_type": "code",
      "execution_count": 82,
      "metadata": {},
      "outputs": [
        {
          "name": "stdout",
          "output_type": "stream",
          "text": [
            "Random Forest Model Testing accuracy:  60.3 %\n"
          ]
        }
      ],
      "source": [
        "prediction_on_testing = rfc_tuned.predict(X_test_new)\n",
        "accuracy_on_testing = accuracy_score(Y_test, prediction_on_testing)\n",
        "print(\"Random Forest Model Testing accuracy: \",round(accuracy_on_testing*100,2),\"%\")"
      ]
    },
    {
      "cell_type": "code",
      "execution_count": 83,
      "metadata": {},
      "outputs": [
        {
          "name": "stdout",
          "output_type": "stream",
          "text": [
            "              precision    recall  f1-score   support\n",
            "\n",
            "           1       0.60      1.00      0.75      1809\n",
            "           2       0.00      0.00      0.00       585\n",
            "           3       0.00      0.00      0.00       289\n",
            "           4       0.00      0.00      0.00       148\n",
            "           5       0.00      0.00      0.00       169\n",
            "\n",
            "    accuracy                           0.60      3000\n",
            "   macro avg       0.12      0.20      0.15      3000\n",
            "weighted avg       0.36      0.60      0.45      3000\n",
            "\n"
          ]
        }
      ],
      "source": [
        "print(classification_report(Y_test,prediction_on_testing))"
      ]
    },
    {
      "attachments": {},
      "cell_type": "markdown",
      "metadata": {},
      "source": [
        "**3. Naive Bayes Classifier**"
      ]
    },
    {
      "cell_type": "code",
      "execution_count": 75,
      "metadata": {},
      "outputs": [
        {
          "data": {
            "text/html": [
              "<style>#sk-container-id-9 {color: black;background-color: white;}#sk-container-id-9 pre{padding: 0;}#sk-container-id-9 div.sk-toggleable {background-color: white;}#sk-container-id-9 label.sk-toggleable__label {cursor: pointer;display: block;width: 100%;margin-bottom: 0;padding: 0.3em;box-sizing: border-box;text-align: center;}#sk-container-id-9 label.sk-toggleable__label-arrow:before {content: \"▸\";float: left;margin-right: 0.25em;color: #696969;}#sk-container-id-9 label.sk-toggleable__label-arrow:hover:before {color: black;}#sk-container-id-9 div.sk-estimator:hover label.sk-toggleable__label-arrow:before {color: black;}#sk-container-id-9 div.sk-toggleable__content {max-height: 0;max-width: 0;overflow: hidden;text-align: left;background-color: #f0f8ff;}#sk-container-id-9 div.sk-toggleable__content pre {margin: 0.2em;color: black;border-radius: 0.25em;background-color: #f0f8ff;}#sk-container-id-9 input.sk-toggleable__control:checked~div.sk-toggleable__content {max-height: 200px;max-width: 100%;overflow: auto;}#sk-container-id-9 input.sk-toggleable__control:checked~label.sk-toggleable__label-arrow:before {content: \"▾\";}#sk-container-id-9 div.sk-estimator input.sk-toggleable__control:checked~label.sk-toggleable__label {background-color: #d4ebff;}#sk-container-id-9 div.sk-label input.sk-toggleable__control:checked~label.sk-toggleable__label {background-color: #d4ebff;}#sk-container-id-9 input.sk-hidden--visually {border: 0;clip: rect(1px 1px 1px 1px);clip: rect(1px, 1px, 1px, 1px);height: 1px;margin: -1px;overflow: hidden;padding: 0;position: absolute;width: 1px;}#sk-container-id-9 div.sk-estimator {font-family: monospace;background-color: #f0f8ff;border: 1px dotted black;border-radius: 0.25em;box-sizing: border-box;margin-bottom: 0.5em;}#sk-container-id-9 div.sk-estimator:hover {background-color: #d4ebff;}#sk-container-id-9 div.sk-parallel-item::after {content: \"\";width: 100%;border-bottom: 1px solid gray;flex-grow: 1;}#sk-container-id-9 div.sk-label:hover label.sk-toggleable__label {background-color: #d4ebff;}#sk-container-id-9 div.sk-serial::before {content: \"\";position: absolute;border-left: 1px solid gray;box-sizing: border-box;top: 0;bottom: 0;left: 50%;z-index: 0;}#sk-container-id-9 div.sk-serial {display: flex;flex-direction: column;align-items: center;background-color: white;padding-right: 0.2em;padding-left: 0.2em;position: relative;}#sk-container-id-9 div.sk-item {position: relative;z-index: 1;}#sk-container-id-9 div.sk-parallel {display: flex;align-items: stretch;justify-content: center;background-color: white;position: relative;}#sk-container-id-9 div.sk-item::before, #sk-container-id-9 div.sk-parallel-item::before {content: \"\";position: absolute;border-left: 1px solid gray;box-sizing: border-box;top: 0;bottom: 0;left: 50%;z-index: -1;}#sk-container-id-9 div.sk-parallel-item {display: flex;flex-direction: column;z-index: 1;position: relative;background-color: white;}#sk-container-id-9 div.sk-parallel-item:first-child::after {align-self: flex-end;width: 50%;}#sk-container-id-9 div.sk-parallel-item:last-child::after {align-self: flex-start;width: 50%;}#sk-container-id-9 div.sk-parallel-item:only-child::after {width: 0;}#sk-container-id-9 div.sk-dashed-wrapped {border: 1px dashed gray;margin: 0 0.4em 0.5em 0.4em;box-sizing: border-box;padding-bottom: 0.4em;background-color: white;}#sk-container-id-9 div.sk-label label {font-family: monospace;font-weight: bold;display: inline-block;line-height: 1.2em;}#sk-container-id-9 div.sk-label-container {text-align: center;}#sk-container-id-9 div.sk-container {/* jupyter's `normalize.less` sets `[hidden] { display: none; }` but bootstrap.min.css set `[hidden] { display: none !important; }` so we also need the `!important` here to be able to override the default hidden behavior on the sphinx rendered scikit-learn.org. See: https://github.com/scikit-learn/scikit-learn/issues/21755 */display: inline-block !important;position: relative;}#sk-container-id-9 div.sk-text-repr-fallback {display: none;}</style><div id=\"sk-container-id-9\" class=\"sk-top-container\"><div class=\"sk-text-repr-fallback\"><pre>MultinomialNB()</pre><b>In a Jupyter environment, please rerun this cell to show the HTML representation or trust the notebook. <br />On GitHub, the HTML representation is unable to render, please try loading this page with nbviewer.org.</b></div><div class=\"sk-container\" hidden><div class=\"sk-item\"><div class=\"sk-estimator sk-toggleable\"><input class=\"sk-toggleable__control sk-hidden--visually\" id=\"sk-estimator-id-13\" type=\"checkbox\" checked><label for=\"sk-estimator-id-13\" class=\"sk-toggleable__label sk-toggleable__label-arrow\">MultinomialNB</label><div class=\"sk-toggleable__content\"><pre>MultinomialNB()</pre></div></div></div></div></div>"
            ],
            "text/plain": [
              "MultinomialNB()"
            ]
          },
          "execution_count": 75,
          "metadata": {},
          "output_type": "execute_result"
        }
      ],
      "source": [
        "from sklearn.naive_bayes import MultinomialNB\n",
        "Model3=MultinomialNB()\n",
        "Model3.fit(X_train_new,Y_train)"
      ]
    },
    {
      "cell_type": "code",
      "execution_count": 76,
      "metadata": {},
      "outputs": [
        {
          "name": "stdout",
          "output_type": "stream",
          "text": [
            "Naive Bayes Model Training accuracy:  59.87 %\n"
          ]
        }
      ],
      "source": [
        "prediction_on_training_data = Model3.predict(X_train_new)\n",
        "accuracy_on_training_data = accuracy_score(Y_train, prediction_on_training_data)\n",
        "print(\"Naive Bayes Model Training accuracy: \",round(accuracy_on_training_data*100,2),\"%\")"
      ]
    },
    {
      "cell_type": "code",
      "execution_count": 77,
      "metadata": {},
      "outputs": [
        {
          "name": "stdout",
          "output_type": "stream",
          "text": [
            "Naive Bayes Model Testing accuracy:  60.3 %\n"
          ]
        }
      ],
      "source": [
        "prediction_on_testing = Model3.predict(X_test_new)\n",
        "accuracy_on_testing = accuracy_score(Y_test, prediction_on_testing)\n",
        "print(\"Naive Bayes Model Testing accuracy: \",round(accuracy_on_testing*100,2),\"%\")"
      ]
    },
    {
      "cell_type": "code",
      "execution_count": 78,
      "metadata": {},
      "outputs": [
        {
          "name": "stdout",
          "output_type": "stream",
          "text": [
            "              precision    recall  f1-score   support\n",
            "\n",
            "           1       0.60      1.00      0.75      1809\n",
            "           2       0.00      0.00      0.00       585\n",
            "           3       0.00      0.00      0.00       289\n",
            "           4       0.00      0.00      0.00       148\n",
            "           5       0.00      0.00      0.00       169\n",
            "\n",
            "    accuracy                           0.60      3000\n",
            "   macro avg       0.12      0.20      0.15      3000\n",
            "weighted avg       0.36      0.60      0.45      3000\n",
            "\n"
          ]
        }
      ],
      "source": [
        "print(classification_report(Y_test,prediction_on_testing))"
      ]
    },
    {
      "cell_type": "markdown",
      "metadata": {},
      "source": [
        "**Tuning the model**"
      ]
    },
    {
      "cell_type": "code",
      "execution_count": 85,
      "metadata": {},
      "outputs": [
        {
          "name": "stdout",
          "output_type": "stream",
          "text": [
            "Fitting 5 folds for each of 4 candidates, totalling 20 fits\n",
            "[CV 1/5] END .........alpha=0.0, fit_prior=True;, score=0.599 total time=   0.0s\n",
            "[CV 2/5] END .........alpha=0.0, fit_prior=True;, score=0.599 total time=   0.0s\n",
            "[CV 3/5] END .........alpha=0.0, fit_prior=True;, score=0.599 total time=   0.0s\n",
            "[CV 4/5] END .........alpha=0.0, fit_prior=True;, score=0.599 total time=   0.0s\n",
            "[CV 5/5] END .........alpha=0.0, fit_prior=True;, score=0.599 total time=   0.0s\n",
            "[CV 1/5] END ........alpha=0.0, fit_prior=False;, score=0.599 total time=   0.0s\n",
            "[CV 2/5] END ........alpha=0.0, fit_prior=False;, score=0.599 total time=   0.0s\n",
            "[CV 3/5] END ........alpha=0.0, fit_prior=False;, score=0.599 total time=   0.0s\n",
            "[CV 4/5] END ........alpha=0.0, fit_prior=False;, score=0.599 total time=   0.0s\n",
            "[CV 5/5] END ........alpha=0.0, fit_prior=False;, score=0.599 total time=   0.0s\n",
            "[CV 1/5] END .........alpha=1.0, fit_prior=True;, score=0.599 total time=   0.0s\n",
            "[CV 2/5] END .........alpha=1.0, fit_prior=True;, score=0.599 total time=   0.0s\n",
            "[CV 3/5] END .........alpha=1.0, fit_prior=True;, score=0.599 total time=   0.0s\n",
            "[CV 4/5] END .........alpha=1.0, fit_prior=True;, score=0.599 total time=   0.0s\n",
            "[CV 5/5] END .........alpha=1.0, fit_prior=True;, score=0.599 total time=   0.0s\n",
            "[CV 1/5] END ........alpha=1.0, fit_prior=False;, score=0.599 total time=   0.0s\n",
            "[CV 2/5] END ........alpha=1.0, fit_prior=False;, score=0.599 total time=   0.0s\n",
            "[CV 3/5] END ........alpha=1.0, fit_prior=False;, score=0.599 total time=   0.0s\n",
            "[CV 4/5] END ........alpha=1.0, fit_prior=False;, score=0.599 total time=   0.0s\n",
            "[CV 5/5] END ........alpha=1.0, fit_prior=False;, score=0.599 total time=   0.0s\n"
          ]
        },
        {
          "data": {
            "text/html": [
              "<style>#sk-container-id-12 {color: black;background-color: white;}#sk-container-id-12 pre{padding: 0;}#sk-container-id-12 div.sk-toggleable {background-color: white;}#sk-container-id-12 label.sk-toggleable__label {cursor: pointer;display: block;width: 100%;margin-bottom: 0;padding: 0.3em;box-sizing: border-box;text-align: center;}#sk-container-id-12 label.sk-toggleable__label-arrow:before {content: \"▸\";float: left;margin-right: 0.25em;color: #696969;}#sk-container-id-12 label.sk-toggleable__label-arrow:hover:before {color: black;}#sk-container-id-12 div.sk-estimator:hover label.sk-toggleable__label-arrow:before {color: black;}#sk-container-id-12 div.sk-toggleable__content {max-height: 0;max-width: 0;overflow: hidden;text-align: left;background-color: #f0f8ff;}#sk-container-id-12 div.sk-toggleable__content pre {margin: 0.2em;color: black;border-radius: 0.25em;background-color: #f0f8ff;}#sk-container-id-12 input.sk-toggleable__control:checked~div.sk-toggleable__content {max-height: 200px;max-width: 100%;overflow: auto;}#sk-container-id-12 input.sk-toggleable__control:checked~label.sk-toggleable__label-arrow:before {content: \"▾\";}#sk-container-id-12 div.sk-estimator input.sk-toggleable__control:checked~label.sk-toggleable__label {background-color: #d4ebff;}#sk-container-id-12 div.sk-label input.sk-toggleable__control:checked~label.sk-toggleable__label {background-color: #d4ebff;}#sk-container-id-12 input.sk-hidden--visually {border: 0;clip: rect(1px 1px 1px 1px);clip: rect(1px, 1px, 1px, 1px);height: 1px;margin: -1px;overflow: hidden;padding: 0;position: absolute;width: 1px;}#sk-container-id-12 div.sk-estimator {font-family: monospace;background-color: #f0f8ff;border: 1px dotted black;border-radius: 0.25em;box-sizing: border-box;margin-bottom: 0.5em;}#sk-container-id-12 div.sk-estimator:hover {background-color: #d4ebff;}#sk-container-id-12 div.sk-parallel-item::after {content: \"\";width: 100%;border-bottom: 1px solid gray;flex-grow: 1;}#sk-container-id-12 div.sk-label:hover label.sk-toggleable__label {background-color: #d4ebff;}#sk-container-id-12 div.sk-serial::before {content: \"\";position: absolute;border-left: 1px solid gray;box-sizing: border-box;top: 0;bottom: 0;left: 50%;z-index: 0;}#sk-container-id-12 div.sk-serial {display: flex;flex-direction: column;align-items: center;background-color: white;padding-right: 0.2em;padding-left: 0.2em;position: relative;}#sk-container-id-12 div.sk-item {position: relative;z-index: 1;}#sk-container-id-12 div.sk-parallel {display: flex;align-items: stretch;justify-content: center;background-color: white;position: relative;}#sk-container-id-12 div.sk-item::before, #sk-container-id-12 div.sk-parallel-item::before {content: \"\";position: absolute;border-left: 1px solid gray;box-sizing: border-box;top: 0;bottom: 0;left: 50%;z-index: -1;}#sk-container-id-12 div.sk-parallel-item {display: flex;flex-direction: column;z-index: 1;position: relative;background-color: white;}#sk-container-id-12 div.sk-parallel-item:first-child::after {align-self: flex-end;width: 50%;}#sk-container-id-12 div.sk-parallel-item:last-child::after {align-self: flex-start;width: 50%;}#sk-container-id-12 div.sk-parallel-item:only-child::after {width: 0;}#sk-container-id-12 div.sk-dashed-wrapped {border: 1px dashed gray;margin: 0 0.4em 0.5em 0.4em;box-sizing: border-box;padding-bottom: 0.4em;background-color: white;}#sk-container-id-12 div.sk-label label {font-family: monospace;font-weight: bold;display: inline-block;line-height: 1.2em;}#sk-container-id-12 div.sk-label-container {text-align: center;}#sk-container-id-12 div.sk-container {/* jupyter's `normalize.less` sets `[hidden] { display: none; }` but bootstrap.min.css set `[hidden] { display: none !important; }` so we also need the `!important` here to be able to override the default hidden behavior on the sphinx rendered scikit-learn.org. See: https://github.com/scikit-learn/scikit-learn/issues/21755 */display: inline-block !important;position: relative;}#sk-container-id-12 div.sk-text-repr-fallback {display: none;}</style><div id=\"sk-container-id-12\" class=\"sk-top-container\"><div class=\"sk-text-repr-fallback\"><pre>GridSearchCV(estimator=MultinomialNB(),\n",
              "             param_grid={&#x27;alpha&#x27;: [0.0, 1.0], &#x27;fit_prior&#x27;: [&#x27;True&#x27;, &#x27;False&#x27;]},\n",
              "             verbose=3)</pre><b>In a Jupyter environment, please rerun this cell to show the HTML representation or trust the notebook. <br />On GitHub, the HTML representation is unable to render, please try loading this page with nbviewer.org.</b></div><div class=\"sk-container\" hidden><div class=\"sk-item sk-dashed-wrapped\"><div class=\"sk-label-container\"><div class=\"sk-label sk-toggleable\"><input class=\"sk-toggleable__control sk-hidden--visually\" id=\"sk-estimator-id-18\" type=\"checkbox\" ><label for=\"sk-estimator-id-18\" class=\"sk-toggleable__label sk-toggleable__label-arrow\">GridSearchCV</label><div class=\"sk-toggleable__content\"><pre>GridSearchCV(estimator=MultinomialNB(),\n",
              "             param_grid={&#x27;alpha&#x27;: [0.0, 1.0], &#x27;fit_prior&#x27;: [&#x27;True&#x27;, &#x27;False&#x27;]},\n",
              "             verbose=3)</pre></div></div></div><div class=\"sk-parallel\"><div class=\"sk-parallel-item\"><div class=\"sk-item\"><div class=\"sk-label-container\"><div class=\"sk-label sk-toggleable\"><input class=\"sk-toggleable__control sk-hidden--visually\" id=\"sk-estimator-id-19\" type=\"checkbox\" ><label for=\"sk-estimator-id-19\" class=\"sk-toggleable__label sk-toggleable__label-arrow\">estimator: MultinomialNB</label><div class=\"sk-toggleable__content\"><pre>MultinomialNB()</pre></div></div></div><div class=\"sk-serial\"><div class=\"sk-item\"><div class=\"sk-estimator sk-toggleable\"><input class=\"sk-toggleable__control sk-hidden--visually\" id=\"sk-estimator-id-20\" type=\"checkbox\" ><label for=\"sk-estimator-id-20\" class=\"sk-toggleable__label sk-toggleable__label-arrow\">MultinomialNB</label><div class=\"sk-toggleable__content\"><pre>MultinomialNB()</pre></div></div></div></div></div></div></div></div></div></div>"
            ],
            "text/plain": [
              "GridSearchCV(estimator=MultinomialNB(),\n",
              "             param_grid={'alpha': [0.0, 1.0], 'fit_prior': ['True', 'False']},\n",
              "             verbose=3)"
            ]
          },
          "execution_count": 85,
          "metadata": {},
          "output_type": "execute_result"
        }
      ],
      "source": [
        "param_grid = {'alpha':[0.0,1.0],'fit_prior':['True','False']} \n",
        "grid = GridSearchCV(Model3, param_grid, refit=True, verbose =3) \n",
        "grid.fit(X_train_new, Y_train)"
      ]
    },
    {
      "cell_type": "code",
      "execution_count": 86,
      "metadata": {},
      "outputs": [
        {
          "name": "stdout",
          "output_type": "stream",
          "text": [
            "Best Parameters are:  {'alpha': 0.0, 'fit_prior': 'True'}\n",
            "Highest Accuracy Achieved:  59.87 %\n"
          ]
        }
      ],
      "source": [
        "print(\"Best Parameters are: \",grid.best_params_)\n",
        "print(\"Highest Accuracy Achieved: \",round(grid.best_score_*100,2),\"%\")"
      ]
    },
    {
      "cell_type": "markdown",
      "metadata": {},
      "source": [
        "**Evaluating Tuned Naive Bayes**"
      ]
    },
    {
      "cell_type": "code",
      "execution_count": 87,
      "metadata": {},
      "outputs": [
        {
          "data": {
            "text/html": [
              "<style>#sk-container-id-13 {color: black;background-color: white;}#sk-container-id-13 pre{padding: 0;}#sk-container-id-13 div.sk-toggleable {background-color: white;}#sk-container-id-13 label.sk-toggleable__label {cursor: pointer;display: block;width: 100%;margin-bottom: 0;padding: 0.3em;box-sizing: border-box;text-align: center;}#sk-container-id-13 label.sk-toggleable__label-arrow:before {content: \"▸\";float: left;margin-right: 0.25em;color: #696969;}#sk-container-id-13 label.sk-toggleable__label-arrow:hover:before {color: black;}#sk-container-id-13 div.sk-estimator:hover label.sk-toggleable__label-arrow:before {color: black;}#sk-container-id-13 div.sk-toggleable__content {max-height: 0;max-width: 0;overflow: hidden;text-align: left;background-color: #f0f8ff;}#sk-container-id-13 div.sk-toggleable__content pre {margin: 0.2em;color: black;border-radius: 0.25em;background-color: #f0f8ff;}#sk-container-id-13 input.sk-toggleable__control:checked~div.sk-toggleable__content {max-height: 200px;max-width: 100%;overflow: auto;}#sk-container-id-13 input.sk-toggleable__control:checked~label.sk-toggleable__label-arrow:before {content: \"▾\";}#sk-container-id-13 div.sk-estimator input.sk-toggleable__control:checked~label.sk-toggleable__label {background-color: #d4ebff;}#sk-container-id-13 div.sk-label input.sk-toggleable__control:checked~label.sk-toggleable__label {background-color: #d4ebff;}#sk-container-id-13 input.sk-hidden--visually {border: 0;clip: rect(1px 1px 1px 1px);clip: rect(1px, 1px, 1px, 1px);height: 1px;margin: -1px;overflow: hidden;padding: 0;position: absolute;width: 1px;}#sk-container-id-13 div.sk-estimator {font-family: monospace;background-color: #f0f8ff;border: 1px dotted black;border-radius: 0.25em;box-sizing: border-box;margin-bottom: 0.5em;}#sk-container-id-13 div.sk-estimator:hover {background-color: #d4ebff;}#sk-container-id-13 div.sk-parallel-item::after {content: \"\";width: 100%;border-bottom: 1px solid gray;flex-grow: 1;}#sk-container-id-13 div.sk-label:hover label.sk-toggleable__label {background-color: #d4ebff;}#sk-container-id-13 div.sk-serial::before {content: \"\";position: absolute;border-left: 1px solid gray;box-sizing: border-box;top: 0;bottom: 0;left: 50%;z-index: 0;}#sk-container-id-13 div.sk-serial {display: flex;flex-direction: column;align-items: center;background-color: white;padding-right: 0.2em;padding-left: 0.2em;position: relative;}#sk-container-id-13 div.sk-item {position: relative;z-index: 1;}#sk-container-id-13 div.sk-parallel {display: flex;align-items: stretch;justify-content: center;background-color: white;position: relative;}#sk-container-id-13 div.sk-item::before, #sk-container-id-13 div.sk-parallel-item::before {content: \"\";position: absolute;border-left: 1px solid gray;box-sizing: border-box;top: 0;bottom: 0;left: 50%;z-index: -1;}#sk-container-id-13 div.sk-parallel-item {display: flex;flex-direction: column;z-index: 1;position: relative;background-color: white;}#sk-container-id-13 div.sk-parallel-item:first-child::after {align-self: flex-end;width: 50%;}#sk-container-id-13 div.sk-parallel-item:last-child::after {align-self: flex-start;width: 50%;}#sk-container-id-13 div.sk-parallel-item:only-child::after {width: 0;}#sk-container-id-13 div.sk-dashed-wrapped {border: 1px dashed gray;margin: 0 0.4em 0.5em 0.4em;box-sizing: border-box;padding-bottom: 0.4em;background-color: white;}#sk-container-id-13 div.sk-label label {font-family: monospace;font-weight: bold;display: inline-block;line-height: 1.2em;}#sk-container-id-13 div.sk-label-container {text-align: center;}#sk-container-id-13 div.sk-container {/* jupyter's `normalize.less` sets `[hidden] { display: none; }` but bootstrap.min.css set `[hidden] { display: none !important; }` so we also need the `!important` here to be able to override the default hidden behavior on the sphinx rendered scikit-learn.org. See: https://github.com/scikit-learn/scikit-learn/issues/21755 */display: inline-block !important;position: relative;}#sk-container-id-13 div.sk-text-repr-fallback {display: none;}</style><div id=\"sk-container-id-13\" class=\"sk-top-container\"><div class=\"sk-text-repr-fallback\"><pre>MultinomialNB(alpha=0.0)</pre><b>In a Jupyter environment, please rerun this cell to show the HTML representation or trust the notebook. <br />On GitHub, the HTML representation is unable to render, please try loading this page with nbviewer.org.</b></div><div class=\"sk-container\" hidden><div class=\"sk-item\"><div class=\"sk-estimator sk-toggleable\"><input class=\"sk-toggleable__control sk-hidden--visually\" id=\"sk-estimator-id-21\" type=\"checkbox\" checked><label for=\"sk-estimator-id-21\" class=\"sk-toggleable__label sk-toggleable__label-arrow\">MultinomialNB</label><div class=\"sk-toggleable__content\"><pre>MultinomialNB(alpha=0.0)</pre></div></div></div></div></div>"
            ],
            "text/plain": [
              "MultinomialNB(alpha=0.0)"
            ]
          },
          "execution_count": 87,
          "metadata": {},
          "output_type": "execute_result"
        }
      ],
      "source": [
        "nb_tuned=MultinomialNB(alpha=0.0,fit_prior=True)\n",
        "nb_tuned.fit(X_train_new,Y_train)"
      ]
    },
    {
      "cell_type": "code",
      "execution_count": 88,
      "metadata": {},
      "outputs": [
        {
          "name": "stdout",
          "output_type": "stream",
          "text": [
            "Naive Bayes(Tuned) Model Training accuracy:  100.0 %\n"
          ]
        }
      ],
      "source": [
        "prediction_on_training_data = nb_tuned.predict(X_train_new)\n",
        "accuracy_on_training_data = accuracy_score(Y_train, prediction_on_training_data)\n",
        "print(\"Naive Bayes(Tuned) Model Training accuracy: \",round(accuracy_on_training_data*100,2),\"%\")"
      ]
    },
    {
      "cell_type": "code",
      "execution_count": 89,
      "metadata": {},
      "outputs": [
        {
          "name": "stdout",
          "output_type": "stream",
          "text": [
            "Naive Bayes Model Testing accuracy:  60.3 %\n"
          ]
        }
      ],
      "source": [
        "prediction_on_testing = nb_tuned.predict(X_test_new)\n",
        "accuracy_on_testing = accuracy_score(Y_test, prediction_on_testing)\n",
        "print(\"Naive Bayes Model Testing accuracy: \",round(accuracy_on_testing*100,2),\"%\")"
      ]
    },
    {
      "cell_type": "code",
      "execution_count": 90,
      "metadata": {},
      "outputs": [
        {
          "name": "stdout",
          "output_type": "stream",
          "text": [
            "              precision    recall  f1-score   support\n",
            "\n",
            "           1       0.60      1.00      0.75      1809\n",
            "           2       0.00      0.00      0.00       585\n",
            "           3       0.00      0.00      0.00       289\n",
            "           4       0.00      0.00      0.00       148\n",
            "           5       0.00      0.00      0.00       169\n",
            "\n",
            "    accuracy                           0.60      3000\n",
            "   macro avg       0.12      0.20      0.15      3000\n",
            "weighted avg       0.36      0.60      0.45      3000\n",
            "\n"
          ]
        }
      ],
      "source": [
        "print(classification_report(Y_test,prediction_on_testing))"
      ]
    },
    {
      "cell_type": "code",
      "execution_count": 91,
      "metadata": {
        "colab": {
          "base_uri": "https://localhost:8080/"
        },
        "id": "gyouvJ_Jh07z",
        "outputId": "0a885bca-0fe9-4bb8-b145-94f7e00461b4"
      },
      "outputs": [
        {
          "name": "stdout",
          "output_type": "stream",
          "text": [
            "[1]\n"
          ]
        }
      ],
      "source": [
        "abc_mail=[\"swampnaturals.com\"]\n",
        "\n",
        "input_data_fea = tfidf.transform(abc_mail)\n",
        "\n",
        "prediction = nb_tuned.predict(input_data_fea)\n",
        "\n",
        "print(prediction)"
      ]
    }
  ],
  "metadata": {
    "colab": {
      "provenance": []
    },
    "kernelspec": {
      "display_name": "Python 3",
      "name": "python3"
    },
    "language_info": {
      "name": "python"
    }
  },
  "nbformat": 4,
  "nbformat_minor": 0
}
